{
 "cells": [
  {
   "cell_type": "code",
   "execution_count": 75,
   "metadata": {
    "collapsed": true
   },
   "outputs": [],
   "source": [
    "import pandas as pd\n",
    "import datetime\n",
    "import numpy as np\n",
    "from sklearn.model_selection import KFold\n",
    "from sklearn.linear_model import LogisticRegression\n",
    "from sklearn.naive_bayes import GaussianNB\n",
    "from sklearn.metrics import confusion_matrix\n",
    "from sklearn.metrics import accuracy_score\n",
    "import warnings\n",
    "warnings.filterwarnings(\"ignore\") \n",
    "from matplotlib import pyplot as plt\n",
    "from sklearn.metrics import f1_score\n",
    "from scipy import stats\n",
    "from sklearn.metrics import precision_score\n",
    "from pprint import pprint"
   ]
  },
  {
   "cell_type": "code",
   "execution_count": 76,
   "metadata": {
    "collapsed": true
   },
   "outputs": [],
   "source": [
    "Filepath = 'C:/Users/ChowdhKa/Downloads/Kakoli Masters/MRP/All File/'"
   ]
  },
  {
   "cell_type": "code",
   "execution_count": 77,
   "metadata": {
    "collapsed": true
   },
   "outputs": [],
   "source": [
    "# Read cluster file\n",
    "fields = ['Channel', 'clusterNum']\n",
    "clusterFile = pd.read_csv(Filepath+'All_Cluster.csv', skipinitialspace=True, usecols=fields)\n",
    "clusterFile = clusterFile[(clusterFile['clusterNum'] == 2)]"
   ]
  },
  {
   "cell_type": "code",
   "execution_count": 78,
   "metadata": {},
   "outputs": [
    {
     "data": {
      "text/html": [
       "<div>\n",
       "<style>\n",
       "    .dataframe thead tr:only-child th {\n",
       "        text-align: right;\n",
       "    }\n",
       "\n",
       "    .dataframe thead th {\n",
       "        text-align: left;\n",
       "    }\n",
       "\n",
       "    .dataframe tbody tr th {\n",
       "        vertical-align: top;\n",
       "    }\n",
       "</style>\n",
       "<table border=\"1\" class=\"dataframe\">\n",
       "  <thead>\n",
       "    <tr style=\"text-align: right;\">\n",
       "      <th></th>\n",
       "      <th>StartDate</th>\n",
       "      <th>EndDate</th>\n",
       "      <th>Channel</th>\n",
       "      <th>Pwr_dbm</th>\n",
       "      <th>Snr</th>\n",
       "      <th>Occupancy</th>\n",
       "    </tr>\n",
       "  </thead>\n",
       "  <tbody>\n",
       "    <tr>\n",
       "      <th>0</th>\n",
       "      <td>2016-10-06</td>\n",
       "      <td>2016-10-06 01:00:00</td>\n",
       "      <td>56303</td>\n",
       "      <td>-83.293709</td>\n",
       "      <td>21.397917</td>\n",
       "      <td>100.0</td>\n",
       "    </tr>\n",
       "    <tr>\n",
       "      <th>1</th>\n",
       "      <td>2016-10-06</td>\n",
       "      <td>2016-10-06 01:00:00</td>\n",
       "      <td>56304</td>\n",
       "      <td>-63.193748</td>\n",
       "      <td>41.497952</td>\n",
       "      <td>100.0</td>\n",
       "    </tr>\n",
       "    <tr>\n",
       "      <th>2</th>\n",
       "      <td>2016-10-06</td>\n",
       "      <td>2016-10-06 01:00:00</td>\n",
       "      <td>56305</td>\n",
       "      <td>-31.322813</td>\n",
       "      <td>73.445999</td>\n",
       "      <td>100.0</td>\n",
       "    </tr>\n",
       "    <tr>\n",
       "      <th>3</th>\n",
       "      <td>2016-10-06</td>\n",
       "      <td>2016-10-06 01:00:00</td>\n",
       "      <td>56306</td>\n",
       "      <td>-64.096245</td>\n",
       "      <td>41.568588</td>\n",
       "      <td>100.0</td>\n",
       "    </tr>\n",
       "    <tr>\n",
       "      <th>4</th>\n",
       "      <td>2016-10-06</td>\n",
       "      <td>2016-10-06 01:00:00</td>\n",
       "      <td>56307</td>\n",
       "      <td>-83.440269</td>\n",
       "      <td>21.249647</td>\n",
       "      <td>100.0</td>\n",
       "    </tr>\n",
       "  </tbody>\n",
       "</table>\n",
       "</div>"
      ],
      "text/plain": [
       "   StartDate             EndDate  Channel    Pwr_dbm        Snr  Occupancy\n",
       "0 2016-10-06 2016-10-06 01:00:00    56303 -83.293709  21.397917      100.0\n",
       "1 2016-10-06 2016-10-06 01:00:00    56304 -63.193748  41.497952      100.0\n",
       "2 2016-10-06 2016-10-06 01:00:00    56305 -31.322813  73.445999      100.0\n",
       "3 2016-10-06 2016-10-06 01:00:00    56306 -64.096245  41.568588      100.0\n",
       "4 2016-10-06 2016-10-06 01:00:00    56307 -83.440269  21.249647      100.0"
      ]
     },
     "execution_count": 78,
     "metadata": {},
     "output_type": "execute_result"
    }
   ],
   "source": [
    "#read layer 3 data csv\n",
    "df=pd.read_csv(Filepath+'OctDataSmall.csv')\n",
    "df.columns = ['StartDate', 'EndDate', 'Channel', 'Pwr_dbm','Snr', 'Occupancy']\n",
    "df['StartDate'] = pd.to_datetime(df['StartDate'])\n",
    "df['EndDate'] = pd.to_datetime(df['EndDate'])\n",
    "df['StartDate'] = df['StartDate'].values.astype('<M8[h]')\n",
    "df['EndDate'] = df['EndDate'].values.astype('<M8[h]')\n",
    "df.head()"
   ]
  },
  {
   "cell_type": "code",
   "execution_count": 79,
   "metadata": {
    "collapsed": true
   },
   "outputs": [],
   "source": [
    "#putting dataframe in another dataframe \n",
    "dataf = df"
   ]
  },
  {
   "cell_type": "code",
   "execution_count": 80,
   "metadata": {},
   "outputs": [
    {
     "data": {
      "text/html": [
       "<div>\n",
       "<style>\n",
       "    .dataframe thead tr:only-child th {\n",
       "        text-align: right;\n",
       "    }\n",
       "\n",
       "    .dataframe thead th {\n",
       "        text-align: left;\n",
       "    }\n",
       "\n",
       "    .dataframe tbody tr th {\n",
       "        vertical-align: top;\n",
       "    }\n",
       "</style>\n",
       "<table border=\"1\" class=\"dataframe\">\n",
       "  <thead>\n",
       "    <tr style=\"text-align: right;\">\n",
       "      <th></th>\n",
       "      <th>Channel</th>\n",
       "      <th>StartDate</th>\n",
       "      <th>EndDate</th>\n",
       "      <th>Pwr_dbm</th>\n",
       "      <th>Snr</th>\n",
       "      <th>Occupancy</th>\n",
       "      <th>per_read</th>\n",
       "    </tr>\n",
       "  </thead>\n",
       "  <tbody>\n",
       "    <tr>\n",
       "      <th>1</th>\n",
       "      <td>10</td>\n",
       "      <td>2016-10-07 08:00:00</td>\n",
       "      <td>2016-10-07 09:00:00</td>\n",
       "      <td>-91.500000</td>\n",
       "      <td>11.700000</td>\n",
       "      <td>0.074493</td>\n",
       "      <td>82.82504</td>\n",
       "    </tr>\n",
       "    <tr>\n",
       "      <th>2</th>\n",
       "      <td>10</td>\n",
       "      <td>2016-10-21 21:00:00</td>\n",
       "      <td>2016-10-21 22:00:00</td>\n",
       "      <td>-90.774193</td>\n",
       "      <td>12.806452</td>\n",
       "      <td>0.466165</td>\n",
       "      <td>82.82504</td>\n",
       "    </tr>\n",
       "    <tr>\n",
       "      <th>3</th>\n",
       "      <td>10</td>\n",
       "      <td>2016-10-11 01:00:00</td>\n",
       "      <td>2016-10-11 02:00:00</td>\n",
       "      <td>-91.592590</td>\n",
       "      <td>11.444445</td>\n",
       "      <td>0.203912</td>\n",
       "      <td>82.82504</td>\n",
       "    </tr>\n",
       "    <tr>\n",
       "      <th>4</th>\n",
       "      <td>10</td>\n",
       "      <td>2016-10-21 12:00:00</td>\n",
       "      <td>2016-10-21 13:00:00</td>\n",
       "      <td>-91.340424</td>\n",
       "      <td>11.851064</td>\n",
       "      <td>0.352800</td>\n",
       "      <td>82.82504</td>\n",
       "    </tr>\n",
       "    <tr>\n",
       "      <th>5</th>\n",
       "      <td>10</td>\n",
       "      <td>2016-10-20 23:00:00</td>\n",
       "      <td>2016-10-21 00:00:00</td>\n",
       "      <td>-92.064514</td>\n",
       "      <td>11.580646</td>\n",
       "      <td>0.237639</td>\n",
       "      <td>82.82504</td>\n",
       "    </tr>\n",
       "  </tbody>\n",
       "</table>\n",
       "</div>"
      ],
      "text/plain": [
       "   Channel           StartDate             EndDate    Pwr_dbm        Snr  \\\n",
       "1       10 2016-10-07 08:00:00 2016-10-07 09:00:00 -91.500000  11.700000   \n",
       "2       10 2016-10-21 21:00:00 2016-10-21 22:00:00 -90.774193  12.806452   \n",
       "3       10 2016-10-11 01:00:00 2016-10-11 02:00:00 -91.592590  11.444445   \n",
       "4       10 2016-10-21 12:00:00 2016-10-21 13:00:00 -91.340424  11.851064   \n",
       "5       10 2016-10-20 23:00:00 2016-10-21 00:00:00 -92.064514  11.580646   \n",
       "\n",
       "   Occupancy  per_read  \n",
       "1   0.074493  82.82504  \n",
       "2   0.466165  82.82504  \n",
       "3   0.203912  82.82504  \n",
       "4   0.352800  82.82504  \n",
       "5   0.237639  82.82504  "
      ]
     },
     "execution_count": 80,
     "metadata": {},
     "output_type": "execute_result"
    }
   ],
   "source": [
    "# Take the data frame from R file\n",
    "df_merged=pd.read_csv(Filepath+'testcsv.csv',delimiter=\"\\t\")\n",
    "#print(df_merged)\n",
    "df_merged.columns = ['Channel','StartDate', 'EndDate', 'Pwr_dbm','Snr', 'Occupancy','per_read']\n",
    "df_merged['StartDate'] = pd.to_datetime(df_merged['StartDate'])\n",
    "df_merged['EndDate'] = pd.to_datetime(df_merged['EndDate'])\n",
    "df_merged['StartDate'] = df_merged['StartDate'].values.astype('<M8[h]')\n",
    "df_merged['EndDate'] = df_merged['EndDate'].values.astype('<M8[h]')\n",
    "df_merged.head()"
   ]
  },
  {
   "cell_type": "code",
   "execution_count": 81,
   "metadata": {
    "collapsed": true
   },
   "outputs": [],
   "source": [
    "# Taking only the required columns\n",
    "df_merged = df_merged[['Channel','StartDate', 'EndDate', 'Occupancy']]"
   ]
  },
  {
   "cell_type": "code",
   "execution_count": 82,
   "metadata": {
    "collapsed": true
   },
   "outputs": [],
   "source": [
    "# JOIN df_merged and clusterFile on channels\n",
    "clusterChannelDF = pd.merge(clusterFile, df_merged[['Channel', 'StartDate', 'EndDate', 'Occupancy']],on='Channel')\n",
    "clusterChannelDF = clusterChannelDF.drop(['clusterNum'], 1)"
   ]
  },
  {
   "cell_type": "code",
   "execution_count": 83,
   "metadata": {
    "collapsed": true
   },
   "outputs": [],
   "source": [
    "#Getting the final channel list\n",
    "\n",
    "channelList = clusterChannelDF.Channel.unique().tolist()\n",
    "#channelList = np.random.choice(channel, 300, replace=False)"
   ]
  },
  {
   "cell_type": "code",
   "execution_count": 84,
   "metadata": {
    "collapsed": true
   },
   "outputs": [],
   "source": [
    "#channelList.tolist()"
   ]
  },
  {
   "cell_type": "code",
   "execution_count": 85,
   "metadata": {
    "collapsed": true
   },
   "outputs": [],
   "source": [
    "#channelList = [20750,22320,23200,28430,34680,34690,50267,15220,15530,15570,15820,16010,16130]#,\n",
    "               #21340,24220,25410,53970,54006,54494,54620,56097,56293,56305,56306,56307]"
   ]
  },
  {
   "cell_type": "code",
   "execution_count": 86,
   "metadata": {
    "collapsed": true
   },
   "outputs": [],
   "source": [
    "#channelList = [20750,22320,23200,28430]\n",
    "               #,34680,34690,50267,15220,15530,15570,15820,16010,16130,\n",
    "               #21340,24220,25410,53970,54006,54494,54620,56097,56293,56305,56306,56307]"
   ]
  },
  {
   "cell_type": "code",
   "execution_count": 87,
   "metadata": {
    "collapsed": true
   },
   "outputs": [],
   "source": [
    "OriginalMergedDF = clusterChannelDF"
   ]
  },
  {
   "cell_type": "code",
   "execution_count": 88,
   "metadata": {
    "collapsed": true
   },
   "outputs": [],
   "source": [
    "def ProcessDF(channel, threshold):\n",
    "    InterDF = OriginalMergedDF[(OriginalMergedDF.Channel == channel)][['StartDate', 'EndDate', 'Channel', 'Occupancy']]\n",
    "    InterDF = InterDF.set_index('StartDate')\n",
    "    InterDF = InterDF.sort_index()\n",
    "    indexStart = InterDF.index[0]\n",
    "    indexEnd = InterDF.index[-1]\n",
    "    InterDF= InterDF.reindex(pd.date_range(start=indexStart, end=indexEnd, freq='1h'))\n",
    "    shiftVales = 2\n",
    "    InterDF['Occupancy1'] = InterDF['Occupancy'].shift()\n",
    "    while shiftVales <=6:\n",
    "        InterDF['Occupancy'+str(shiftVales)] = InterDF['Occupancy'+str(shiftVales-1)].shift()\n",
    "        shiftVales=shiftVales+1\n",
    "    # Convert index back to dataframe column\n",
    "    InterDF.reset_index(level=0, inplace=True)\n",
    "    InterDF.drop(InterDF.columns[[0,1]], axis=1, inplace=True)\n",
    "    InterDF = InterDF.dropna(how='any', axis = 0)\n",
    "    #InterDF['OccupancyLabel'] = np.where(InterDF['Occupancy'] > threshold, 1,0)\n",
    "    InterDF['OccupancyLabel'] = pd.cut(InterDF['Occupancy'], [-np.inf, threshold, np.inf], labels=[0, 1])\n",
    "    return InterDF"
   ]
  },
  {
   "cell_type": "code",
   "execution_count": 89,
   "metadata": {
    "collapsed": true
   },
   "outputs": [],
   "source": [
    "def GausNB(X_train, y_train, X_test, y_test):\n",
    "    model = GaussianNB()\n",
    "    model.fit(X_train, y_train)\n",
    "    predicted = model.predict(X_test)\n",
    "    confusion_NB = confusion_matrix(y_test, predicted, labels=[0,1])\n",
    "    # Accuracy\n",
    "    scoreNB = accuracy_score(y_test, predicted)\n",
    "    # Sensitivity\n",
    "    senseNB = confusion_NB[1,1]/(confusion_NB[1,0]+confusion_NB[1,1])\n",
    "    # Specificity\n",
    "    specificNB = confusion_NB[0,0]/(confusion_NB[0,0]+confusion_NB[0,1])\n",
    "    # F-measure\n",
    "    fmeasureNB = f1_score(y_test, predicted,average='weighted')\n",
    "    # Precision\n",
    "    precisionscoreNB = precision_score(y_test, predicted, average='weighted')\n",
    "\n",
    "    return scoreNB, senseNB, specificNB, fmeasureNB, precisionscoreNB"
   ]
  },
  {
   "cell_type": "code",
   "execution_count": 90,
   "metadata": {
    "collapsed": true
   },
   "outputs": [],
   "source": [
    "def LogReg(X_train, y_train, X_test, y_test):\n",
    "    reg = LogisticRegression()\n",
    "    modfit = reg.fit(X_train, y_train)\n",
    "    yPred = modfit.predict(X_test)\n",
    "    confusion_LR = confusion_matrix(y_test, yPred, labels=[0,1])\n",
    "    # Accuracy\n",
    "    # scoreLR = modfit.score(X_test, y_test)\n",
    "    scoreLR = (confusion_LR[0,0]+confusion_LR[1,1])/(confusion_LR[0,0]+confusion_LR[0,1]+confusion_LR[1,0]+confusion_LR[1,1])\n",
    "    # Sensitivity\n",
    "    senseLR = confusion_LR[1,1]/(confusion_LR[1,0]+confusion_LR[1,1])\n",
    "    # Specificity\n",
    "    specificLR = confusion_LR[0,0]/(confusion_LR[0,0]+confusion_LR[0,1])\n",
    "    # F-measure\n",
    "    fmeasureLR = f1_score(y_test, yPred, average='weighted')\n",
    "    # Precision\n",
    "    precisionscoreLR = precision_score(y_test, yPred, average='weighted')\n",
    "\n",
    "    return scoreLR, senseLR, specificLR, fmeasureLR, precisionscoreLR"
   ]
  },
  {
   "cell_type": "code",
   "execution_count": 91,
   "metadata": {
    "collapsed": true
   },
   "outputs": [],
   "source": [
    "#print(k[1])"
   ]
  },
  {
   "cell_type": "code",
   "execution_count": 92,
   "metadata": {
    "collapsed": true
   },
   "outputs": [],
   "source": [
    "# Defining the threshold for class labeling\n",
    "SaveDataDF = pd.DataFrame([])\n",
    "t = 70\n",
    "#list_threshold = [0, 10, 20, 30, 40, 50, 60, 70, 80, 90, 100]\n",
    "#list_threshold = [40, 50, 60, 70]\n",
    "#for t in list_threshold:\n",
    "for channel in channelList:\n",
    "    #print('Value of Threshold: ' + str(t))\n",
    "    #print('Current channel is: '+ str(channel))\n",
    "\n",
    "    ProcessedDF = ProcessDF(channel, t)\n",
    "    ProcessedDFx = ProcessedDF[(ProcessedDF.Channel == channel)][['Channel', 'Occupancy1', 'Occupancy2', 'Occupancy3', 'Occupancy4', 'Occupancy5', 'Occupancy6']]\n",
    "    ProcessedDFy = ProcessedDF[(ProcessedDF.Channel == channel)][['OccupancyLabel']] \n",
    "    #print(ProcessedDFy.OccupancyLabel.unique())\n",
    "    #print(ProcessedDFy['OccupancyLabel'].value_counts())\n",
    "    k = ProcessedDFy.groupby('OccupancyLabel').size()\n",
    "    #print('k[0]: '+ str(k[0]))\n",
    "    #print('k[1]: '+ str(k[1]))\n",
    "    if (k[0] > 5 and k[1] > 5):\n",
    "        RunIter = 1\n",
    "        while RunIter <= 10:\n",
    "            foldCounter = 1\n",
    "            kc = KFold(n_splits = 10, shuffle=True)\n",
    "            for train_x, test_x in kc.split(ProcessedDFx, ProcessedDFy):\n",
    "                X_trainDF, X_testDF = ProcessedDFx.iloc[train_x], ProcessedDFx.iloc[test_x]\n",
    "                y_trainDF, y_testDF = ProcessedDFy.iloc[train_x], ProcessedDFy.iloc[test_x]\n",
    "\n",
    "\n",
    "                # Naive Bayes\n",
    "                scoreNB, sensitivityNB, specificityNB, fmeasureNB, precisionNB = GausNB(X_trainDF, y_trainDF, X_testDF, y_testDF)\n",
    "                #if len(y_trainDF.OccupancyLabel.unique()) > 1:\n",
    "                # Logistic Regression\n",
    "                scoreLR, sensitivityLR, specificityLR, fmeasureLR, precisionLR = LogReg(X_trainDF, y_trainDF, X_testDF, y_testDF)\n",
    "\n",
    "                # PRINT ROW VALUE IN DATAFRAME- KEEP APPENDING\n",
    "                SaveDataDF = SaveDataDF.append(pd.DataFrame({'Channel': channel, 'Threshold': t,\n",
    "                                                             'RunCount': RunIter,'FoldCount': foldCounter,\n",
    "                                                             'AccuracyLR': scoreLR, 'SensitivityLR': sensitivityLR,\n",
    "                                                             'SpecificityLR': specificityLR, 'AccuracyNB': scoreNB,\n",
    "                                                             'SensitivityNB': sensitivityNB, 'SpecificityNB': specificityNB,\n",
    "                                                             'fmeasureNB': fmeasureNB, 'fmeasureLR': fmeasureLR,\n",
    "                                                             'precisionLR': precisionLR, 'precisionNB': precisionNB\n",
    "                                                            }, \n",
    "                                                            index=[0]), ignore_index=True)\n",
    "            foldCounter = foldCounter + 1\n",
    "            RunIter = RunIter + 1\n"
   ]
  },
  {
   "cell_type": "code",
   "execution_count": 93,
   "metadata": {
    "collapsed": true
   },
   "outputs": [],
   "source": [
    "#fmeasureLR"
   ]
  },
  {
   "cell_type": "code",
   "execution_count": 94,
   "metadata": {
    "collapsed": true
   },
   "outputs": [],
   "source": [
    "#ProcessedDFy.head()"
   ]
  },
  {
   "cell_type": "code",
   "execution_count": 95,
   "metadata": {},
   "outputs": [
    {
     "data": {
      "text/html": [
       "<div>\n",
       "<style>\n",
       "    .dataframe thead tr:only-child th {\n",
       "        text-align: right;\n",
       "    }\n",
       "\n",
       "    .dataframe thead th {\n",
       "        text-align: left;\n",
       "    }\n",
       "\n",
       "    .dataframe tbody tr th {\n",
       "        vertical-align: top;\n",
       "    }\n",
       "</style>\n",
       "<table border=\"1\" class=\"dataframe\">\n",
       "  <thead>\n",
       "    <tr style=\"text-align: right;\">\n",
       "      <th></th>\n",
       "      <th>Channel</th>\n",
       "      <th>Occupancy1</th>\n",
       "      <th>Occupancy2</th>\n",
       "      <th>Occupancy3</th>\n",
       "      <th>Occupancy4</th>\n",
       "      <th>Occupancy5</th>\n",
       "      <th>Occupancy6</th>\n",
       "    </tr>\n",
       "  </thead>\n",
       "  <tbody>\n",
       "    <tr>\n",
       "      <th>6</th>\n",
       "      <td>56422.0</td>\n",
       "      <td>7.678287</td>\n",
       "      <td>14.372973</td>\n",
       "      <td>16.154018</td>\n",
       "      <td>21.608527</td>\n",
       "      <td>31.603633</td>\n",
       "      <td>40.126535</td>\n",
       "    </tr>\n",
       "    <tr>\n",
       "      <th>7</th>\n",
       "      <td>56422.0</td>\n",
       "      <td>7.427550</td>\n",
       "      <td>7.678287</td>\n",
       "      <td>14.372973</td>\n",
       "      <td>16.154018</td>\n",
       "      <td>21.608527</td>\n",
       "      <td>31.603633</td>\n",
       "    </tr>\n",
       "    <tr>\n",
       "      <th>8</th>\n",
       "      <td>56422.0</td>\n",
       "      <td>10.939597</td>\n",
       "      <td>7.427550</td>\n",
       "      <td>7.678287</td>\n",
       "      <td>14.372973</td>\n",
       "      <td>16.154018</td>\n",
       "      <td>21.608527</td>\n",
       "    </tr>\n",
       "    <tr>\n",
       "      <th>9</th>\n",
       "      <td>56422.0</td>\n",
       "      <td>8.550129</td>\n",
       "      <td>10.939597</td>\n",
       "      <td>7.427550</td>\n",
       "      <td>7.678287</td>\n",
       "      <td>14.372973</td>\n",
       "      <td>16.154018</td>\n",
       "    </tr>\n",
       "    <tr>\n",
       "      <th>10</th>\n",
       "      <td>56422.0</td>\n",
       "      <td>10.559574</td>\n",
       "      <td>8.550129</td>\n",
       "      <td>10.939597</td>\n",
       "      <td>7.427550</td>\n",
       "      <td>7.678287</td>\n",
       "      <td>14.372973</td>\n",
       "    </tr>\n",
       "  </tbody>\n",
       "</table>\n",
       "</div>"
      ],
      "text/plain": [
       "    Channel  Occupancy1  Occupancy2  Occupancy3  Occupancy4  Occupancy5  \\\n",
       "6   56422.0    7.678287   14.372973   16.154018   21.608527   31.603633   \n",
       "7   56422.0    7.427550    7.678287   14.372973   16.154018   21.608527   \n",
       "8   56422.0   10.939597    7.427550    7.678287   14.372973   16.154018   \n",
       "9   56422.0    8.550129   10.939597    7.427550    7.678287   14.372973   \n",
       "10  56422.0   10.559574    8.550129   10.939597    7.427550    7.678287   \n",
       "\n",
       "    Occupancy6  \n",
       "6    40.126535  \n",
       "7    31.603633  \n",
       "8    21.608527  \n",
       "9    16.154018  \n",
       "10   14.372973  "
      ]
     },
     "execution_count": 95,
     "metadata": {},
     "output_type": "execute_result"
    }
   ],
   "source": [
    "ProcessedDFx.head()"
   ]
  },
  {
   "cell_type": "code",
   "execution_count": 96,
   "metadata": {},
   "outputs": [
    {
     "data": {
      "text/html": [
       "<div>\n",
       "<style>\n",
       "    .dataframe thead tr:only-child th {\n",
       "        text-align: right;\n",
       "    }\n",
       "\n",
       "    .dataframe thead th {\n",
       "        text-align: left;\n",
       "    }\n",
       "\n",
       "    .dataframe tbody tr th {\n",
       "        vertical-align: top;\n",
       "    }\n",
       "</style>\n",
       "<table border=\"1\" class=\"dataframe\">\n",
       "  <thead>\n",
       "    <tr style=\"text-align: right;\">\n",
       "      <th></th>\n",
       "      <th>AccuracyLR</th>\n",
       "      <th>AccuracyNB</th>\n",
       "      <th>Channel</th>\n",
       "      <th>FoldCount</th>\n",
       "      <th>RunCount</th>\n",
       "      <th>SensitivityLR</th>\n",
       "      <th>SensitivityNB</th>\n",
       "      <th>SpecificityLR</th>\n",
       "      <th>SpecificityNB</th>\n",
       "      <th>Threshold</th>\n",
       "      <th>fmeasureLR</th>\n",
       "      <th>fmeasureNB</th>\n",
       "      <th>precisionLR</th>\n",
       "      <th>precisionNB</th>\n",
       "    </tr>\n",
       "  </thead>\n",
       "  <tbody>\n",
       "    <tr>\n",
       "      <th>0</th>\n",
       "      <td>0.959184</td>\n",
       "      <td>0.938776</td>\n",
       "      <td>830</td>\n",
       "      <td>1</td>\n",
       "      <td>1</td>\n",
       "      <td>0.000000</td>\n",
       "      <td>1.000000</td>\n",
       "      <td>1.000000</td>\n",
       "      <td>0.936170</td>\n",
       "      <td>70</td>\n",
       "      <td>0.939201</td>\n",
       "      <td>0.950886</td>\n",
       "      <td>0.920033</td>\n",
       "      <td>0.975510</td>\n",
       "    </tr>\n",
       "    <tr>\n",
       "      <th>1</th>\n",
       "      <td>0.959184</td>\n",
       "      <td>0.979592</td>\n",
       "      <td>830</td>\n",
       "      <td>1</td>\n",
       "      <td>1</td>\n",
       "      <td>0.500000</td>\n",
       "      <td>0.750000</td>\n",
       "      <td>1.000000</td>\n",
       "      <td>1.000000</td>\n",
       "      <td>70</td>\n",
       "      <td>0.952825</td>\n",
       "      <td>0.978246</td>\n",
       "      <td>0.960921</td>\n",
       "      <td>0.980035</td>\n",
       "    </tr>\n",
       "    <tr>\n",
       "      <th>2</th>\n",
       "      <td>0.897959</td>\n",
       "      <td>0.897959</td>\n",
       "      <td>830</td>\n",
       "      <td>1</td>\n",
       "      <td>1</td>\n",
       "      <td>0.000000</td>\n",
       "      <td>0.250000</td>\n",
       "      <td>0.977778</td>\n",
       "      <td>0.955556</td>\n",
       "      <td>70</td>\n",
       "      <td>0.868993</td>\n",
       "      <td>0.891231</td>\n",
       "      <td>0.841837</td>\n",
       "      <td>0.885685</td>\n",
       "    </tr>\n",
       "    <tr>\n",
       "      <th>3</th>\n",
       "      <td>0.959184</td>\n",
       "      <td>0.877551</td>\n",
       "      <td>830</td>\n",
       "      <td>1</td>\n",
       "      <td>1</td>\n",
       "      <td>0.666667</td>\n",
       "      <td>0.666667</td>\n",
       "      <td>0.978261</td>\n",
       "      <td>0.891304</td>\n",
       "      <td>70</td>\n",
       "      <td>0.959184</td>\n",
       "      <td>0.899258</td>\n",
       "      <td>0.959184</td>\n",
       "      <td>0.933916</td>\n",
       "    </tr>\n",
       "    <tr>\n",
       "      <th>4</th>\n",
       "      <td>0.959184</td>\n",
       "      <td>0.918367</td>\n",
       "      <td>830</td>\n",
       "      <td>1</td>\n",
       "      <td>1</td>\n",
       "      <td>0.000000</td>\n",
       "      <td>0.500000</td>\n",
       "      <td>1.000000</td>\n",
       "      <td>0.936170</td>\n",
       "      <td>70</td>\n",
       "      <td>0.939201</td>\n",
       "      <td>0.931085</td>\n",
       "      <td>0.920033</td>\n",
       "      <td>0.948073</td>\n",
       "    </tr>\n",
       "  </tbody>\n",
       "</table>\n",
       "</div>"
      ],
      "text/plain": [
       "   AccuracyLR  AccuracyNB  Channel  FoldCount  RunCount  SensitivityLR  \\\n",
       "0    0.959184    0.938776      830          1         1       0.000000   \n",
       "1    0.959184    0.979592      830          1         1       0.500000   \n",
       "2    0.897959    0.897959      830          1         1       0.000000   \n",
       "3    0.959184    0.877551      830          1         1       0.666667   \n",
       "4    0.959184    0.918367      830          1         1       0.000000   \n",
       "\n",
       "   SensitivityNB  SpecificityLR  SpecificityNB  Threshold  fmeasureLR  \\\n",
       "0       1.000000       1.000000       0.936170         70    0.939201   \n",
       "1       0.750000       1.000000       1.000000         70    0.952825   \n",
       "2       0.250000       0.977778       0.955556         70    0.868993   \n",
       "3       0.666667       0.978261       0.891304         70    0.959184   \n",
       "4       0.500000       1.000000       0.936170         70    0.939201   \n",
       "\n",
       "   fmeasureNB  precisionLR  precisionNB  \n",
       "0    0.950886     0.920033     0.975510  \n",
       "1    0.978246     0.960921     0.980035  \n",
       "2    0.891231     0.841837     0.885685  \n",
       "3    0.899258     0.959184     0.933916  \n",
       "4    0.931085     0.920033     0.948073  "
      ]
     },
     "execution_count": 96,
     "metadata": {},
     "output_type": "execute_result"
    }
   ],
   "source": [
    "SaveDataDF.head()"
   ]
  },
  {
   "cell_type": "code",
   "execution_count": 97,
   "metadata": {
    "collapsed": true
   },
   "outputs": [],
   "source": [
    "SaveDataDF.to_csv(Filepath+'OutputData.csv', header=False,sep='\\t', encoding='utf-8', index=False)"
   ]
  },
  {
   "cell_type": "code",
   "execution_count": 98,
   "metadata": {
    "collapsed": true
   },
   "outputs": [],
   "source": [
    "readResults = pd.read_csv(Filepath+'OutputData.csv', header=1, sep ='\\t')"
   ]
  },
  {
   "cell_type": "code",
   "execution_count": 99,
   "metadata": {
    "collapsed": true
   },
   "outputs": [],
   "source": [
    "readResults.columns = ['AccuracyLR', 'AccuracyNB', 'Channel', 'FoldCount', 'RunCount', \n",
    "                    'SensitivityLR', 'SensitivityNB','SpecificityLR', \n",
    "                    'SpecificityNB','Threshold','FmeasureLR', 'FmeasureNB', 'PrecisionLR', 'PrecisionNB']"
   ]
  },
  {
   "cell_type": "code",
   "execution_count": 100,
   "metadata": {},
   "outputs": [
    {
     "data": {
      "text/html": [
       "<div>\n",
       "<style>\n",
       "    .dataframe thead tr:only-child th {\n",
       "        text-align: right;\n",
       "    }\n",
       "\n",
       "    .dataframe thead th {\n",
       "        text-align: left;\n",
       "    }\n",
       "\n",
       "    .dataframe tbody tr th {\n",
       "        vertical-align: top;\n",
       "    }\n",
       "</style>\n",
       "<table border=\"1\" class=\"dataframe\">\n",
       "  <thead>\n",
       "    <tr style=\"text-align: right;\">\n",
       "      <th></th>\n",
       "      <th>AccuracyLR</th>\n",
       "      <th>AccuracyNB</th>\n",
       "      <th>Channel</th>\n",
       "      <th>FoldCount</th>\n",
       "      <th>RunCount</th>\n",
       "      <th>SensitivityLR</th>\n",
       "      <th>SensitivityNB</th>\n",
       "      <th>SpecificityLR</th>\n",
       "      <th>SpecificityNB</th>\n",
       "      <th>Threshold</th>\n",
       "      <th>FmeasureLR</th>\n",
       "      <th>FmeasureNB</th>\n",
       "      <th>PrecisionLR</th>\n",
       "      <th>PrecisionNB</th>\n",
       "    </tr>\n",
       "  </thead>\n",
       "  <tbody>\n",
       "    <tr>\n",
       "      <th>0</th>\n",
       "      <td>0.897959</td>\n",
       "      <td>0.897959</td>\n",
       "      <td>830</td>\n",
       "      <td>1</td>\n",
       "      <td>1</td>\n",
       "      <td>0.000000</td>\n",
       "      <td>0.250000</td>\n",
       "      <td>0.977778</td>\n",
       "      <td>0.955556</td>\n",
       "      <td>70</td>\n",
       "      <td>0.868993</td>\n",
       "      <td>0.891231</td>\n",
       "      <td>0.841837</td>\n",
       "      <td>0.885685</td>\n",
       "    </tr>\n",
       "    <tr>\n",
       "      <th>1</th>\n",
       "      <td>0.959184</td>\n",
       "      <td>0.877551</td>\n",
       "      <td>830</td>\n",
       "      <td>1</td>\n",
       "      <td>1</td>\n",
       "      <td>0.666667</td>\n",
       "      <td>0.666667</td>\n",
       "      <td>0.978261</td>\n",
       "      <td>0.891304</td>\n",
       "      <td>70</td>\n",
       "      <td>0.959184</td>\n",
       "      <td>0.899258</td>\n",
       "      <td>0.959184</td>\n",
       "      <td>0.933916</td>\n",
       "    </tr>\n",
       "    <tr>\n",
       "      <th>2</th>\n",
       "      <td>0.959184</td>\n",
       "      <td>0.918367</td>\n",
       "      <td>830</td>\n",
       "      <td>1</td>\n",
       "      <td>1</td>\n",
       "      <td>0.000000</td>\n",
       "      <td>0.500000</td>\n",
       "      <td>1.000000</td>\n",
       "      <td>0.936170</td>\n",
       "      <td>70</td>\n",
       "      <td>0.939201</td>\n",
       "      <td>0.931085</td>\n",
       "      <td>0.920033</td>\n",
       "      <td>0.948073</td>\n",
       "    </tr>\n",
       "    <tr>\n",
       "      <th>3</th>\n",
       "      <td>1.000000</td>\n",
       "      <td>0.938776</td>\n",
       "      <td>830</td>\n",
       "      <td>1</td>\n",
       "      <td>1</td>\n",
       "      <td>1.000000</td>\n",
       "      <td>1.000000</td>\n",
       "      <td>1.000000</td>\n",
       "      <td>0.937500</td>\n",
       "      <td>70</td>\n",
       "      <td>1.000000</td>\n",
       "      <td>0.956155</td>\n",
       "      <td>1.000000</td>\n",
       "      <td>0.984694</td>\n",
       "    </tr>\n",
       "    <tr>\n",
       "      <th>4</th>\n",
       "      <td>0.958333</td>\n",
       "      <td>0.854167</td>\n",
       "      <td>830</td>\n",
       "      <td>1</td>\n",
       "      <td>1</td>\n",
       "      <td>0.750000</td>\n",
       "      <td>0.750000</td>\n",
       "      <td>0.977273</td>\n",
       "      <td>0.863636</td>\n",
       "      <td>70</td>\n",
       "      <td>0.958333</td>\n",
       "      <td>0.877819</td>\n",
       "      <td>0.958333</td>\n",
       "      <td>0.920940</td>\n",
       "    </tr>\n",
       "  </tbody>\n",
       "</table>\n",
       "</div>"
      ],
      "text/plain": [
       "   AccuracyLR  AccuracyNB  Channel  FoldCount  RunCount  SensitivityLR  \\\n",
       "0    0.897959    0.897959      830          1         1       0.000000   \n",
       "1    0.959184    0.877551      830          1         1       0.666667   \n",
       "2    0.959184    0.918367      830          1         1       0.000000   \n",
       "3    1.000000    0.938776      830          1         1       1.000000   \n",
       "4    0.958333    0.854167      830          1         1       0.750000   \n",
       "\n",
       "   SensitivityNB  SpecificityLR  SpecificityNB  Threshold  FmeasureLR  \\\n",
       "0       0.250000       0.977778       0.955556         70    0.868993   \n",
       "1       0.666667       0.978261       0.891304         70    0.959184   \n",
       "2       0.500000       1.000000       0.936170         70    0.939201   \n",
       "3       1.000000       1.000000       0.937500         70    1.000000   \n",
       "4       0.750000       0.977273       0.863636         70    0.958333   \n",
       "\n",
       "   FmeasureNB  PrecisionLR  PrecisionNB  \n",
       "0    0.891231     0.841837     0.885685  \n",
       "1    0.899258     0.959184     0.933916  \n",
       "2    0.931085     0.920033     0.948073  \n",
       "3    0.956155     1.000000     0.984694  \n",
       "4    0.877819     0.958333     0.920940  "
      ]
     },
     "execution_count": 100,
     "metadata": {},
     "output_type": "execute_result"
    }
   ],
   "source": [
    "readResults.head()"
   ]
  },
  {
   "cell_type": "code",
   "execution_count": 101,
   "metadata": {},
   "outputs": [
    {
     "data": {
      "text/plain": [
       "(8098, 14)"
      ]
     },
     "execution_count": 101,
     "metadata": {},
     "output_type": "execute_result"
    }
   ],
   "source": [
    "readResults.shape"
   ]
  },
  {
   "cell_type": "code",
   "execution_count": 102,
   "metadata": {},
   "outputs": [
    {
     "data": {
      "text/plain": [
       "8100"
      ]
     },
     "execution_count": 102,
     "metadata": {},
     "output_type": "execute_result"
    }
   ],
   "source": [
    "len(SaveDataDF['AccuracyNB'])"
   ]
  },
  {
   "cell_type": "code",
   "execution_count": 103,
   "metadata": {},
   "outputs": [
    {
     "data": {
      "text/plain": [
       "AccuracyLR       float64\n",
       "AccuracyNB       float64\n",
       "Channel            int64\n",
       "FoldCount          int64\n",
       "RunCount           int64\n",
       "SensitivityLR    float64\n",
       "SensitivityNB    float64\n",
       "SpecificityLR    float64\n",
       "SpecificityNB    float64\n",
       "Threshold          int64\n",
       "fmeasureLR       float64\n",
       "fmeasureNB       float64\n",
       "precisionLR      float64\n",
       "precisionNB      float64\n",
       "dtype: object"
      ]
     },
     "execution_count": 103,
     "metadata": {},
     "output_type": "execute_result"
    }
   ],
   "source": [
    "SaveDataDF.dtypes"
   ]
  },
  {
   "cell_type": "code",
   "execution_count": 104,
   "metadata": {
    "collapsed": true
   },
   "outputs": [],
   "source": [
    "pVal = stats.ttest_ind(SaveDataDF['AccuracyNB'][:800],SaveDataDF['AccuracyLR'][:800], nan_policy = 'propagate')\n",
    "pValue = pVal[1]"
   ]
  },
  {
   "cell_type": "code",
   "execution_count": 105,
   "metadata": {},
   "outputs": [
    {
     "data": {
      "text/plain": [
       "Ttest_indResult(statistic=-26.381158090376097, pvalue=1.2805201154775418e-127)"
      ]
     },
     "execution_count": 105,
     "metadata": {},
     "output_type": "execute_result"
    }
   ],
   "source": [
    "pVal"
   ]
  },
  {
   "cell_type": "code",
   "execution_count": 106,
   "metadata": {
    "collapsed": true
   },
   "outputs": [],
   "source": [
    "# This code is commented and can be used when required to print the p-value\n",
    "#pprint([(i, stats.ttest_ind(SaveDataDF['AccuracyNB'], SaveDataDF['AccuracyLR'][:i])[1])\n",
    "#        for i in range(100,len(SaveDataDF['AccuracyLR']),100)])"
   ]
  },
  {
   "cell_type": "code",
   "execution_count": 107,
   "metadata": {
    "collapsed": true
   },
   "outputs": [],
   "source": [
    "readResults = readResults.drop(['FoldCount', 'RunCount'], 1)"
   ]
  },
  {
   "cell_type": "code",
   "execution_count": 108,
   "metadata": {
    "collapsed": true
   },
   "outputs": [],
   "source": [
    "PerThresPerChannelDF = readResults.groupby(['Channel','Threshold']).mean().add_suffix('_mean').reset_index()"
   ]
  },
  {
   "cell_type": "code",
   "execution_count": 109,
   "metadata": {},
   "outputs": [
    {
     "data": {
      "text/html": [
       "<div>\n",
       "<style>\n",
       "    .dataframe thead tr:only-child th {\n",
       "        text-align: right;\n",
       "    }\n",
       "\n",
       "    .dataframe thead th {\n",
       "        text-align: left;\n",
       "    }\n",
       "\n",
       "    .dataframe tbody tr th {\n",
       "        vertical-align: top;\n",
       "    }\n",
       "</style>\n",
       "<table border=\"1\" class=\"dataframe\">\n",
       "  <thead>\n",
       "    <tr style=\"text-align: right;\">\n",
       "      <th></th>\n",
       "      <th>Channel</th>\n",
       "      <th>Threshold</th>\n",
       "      <th>AccuracyLR_mean</th>\n",
       "      <th>AccuracyNB_mean</th>\n",
       "      <th>SensitivityLR_mean</th>\n",
       "      <th>SensitivityNB_mean</th>\n",
       "      <th>SpecificityLR_mean</th>\n",
       "      <th>SpecificityNB_mean</th>\n",
       "      <th>FmeasureLR_mean</th>\n",
       "      <th>FmeasureNB_mean</th>\n",
       "      <th>PrecisionLR_mean</th>\n",
       "      <th>PrecisionNB_mean</th>\n",
       "    </tr>\n",
       "  </thead>\n",
       "  <tbody>\n",
       "    <tr>\n",
       "      <th>0</th>\n",
       "      <td>830</td>\n",
       "      <td>70</td>\n",
       "      <td>0.954190</td>\n",
       "      <td>0.915560</td>\n",
       "      <td>0.357476</td>\n",
       "      <td>0.656247</td>\n",
       "      <td>0.984858</td>\n",
       "      <td>0.928940</td>\n",
       "      <td>0.947958</td>\n",
       "      <td>0.930692</td>\n",
       "      <td>0.948595</td>\n",
       "      <td>0.954219</td>\n",
       "    </tr>\n",
       "    <tr>\n",
       "      <th>1</th>\n",
       "      <td>1370</td>\n",
       "      <td>70</td>\n",
       "      <td>0.975948</td>\n",
       "      <td>0.960485</td>\n",
       "      <td>0.000000</td>\n",
       "      <td>0.000000</td>\n",
       "      <td>0.998537</td>\n",
       "      <td>0.982744</td>\n",
       "      <td>0.965574</td>\n",
       "      <td>0.957704</td>\n",
       "      <td>0.955618</td>\n",
       "      <td>0.955300</td>\n",
       "    </tr>\n",
       "    <tr>\n",
       "      <th>2</th>\n",
       "      <td>2020</td>\n",
       "      <td>70</td>\n",
       "      <td>0.923044</td>\n",
       "      <td>0.832462</td>\n",
       "      <td>0.702504</td>\n",
       "      <td>0.786134</td>\n",
       "      <td>0.965454</td>\n",
       "      <td>0.841706</td>\n",
       "      <td>0.920901</td>\n",
       "      <td>0.848430</td>\n",
       "      <td>0.925437</td>\n",
       "      <td>0.884460</td>\n",
       "    </tr>\n",
       "    <tr>\n",
       "      <th>3</th>\n",
       "      <td>3860</td>\n",
       "      <td>70</td>\n",
       "      <td>0.903227</td>\n",
       "      <td>0.851233</td>\n",
       "      <td>0.624384</td>\n",
       "      <td>0.701559</td>\n",
       "      <td>0.960458</td>\n",
       "      <td>0.884082</td>\n",
       "      <td>0.899217</td>\n",
       "      <td>0.858657</td>\n",
       "      <td>0.904911</td>\n",
       "      <td>0.875965</td>\n",
       "    </tr>\n",
       "    <tr>\n",
       "      <th>4</th>\n",
       "      <td>9230</td>\n",
       "      <td>70</td>\n",
       "      <td>0.934643</td>\n",
       "      <td>0.812224</td>\n",
       "      <td>0.157649</td>\n",
       "      <td>0.546213</td>\n",
       "      <td>0.985485</td>\n",
       "      <td>0.831113</td>\n",
       "      <td>0.918371</td>\n",
       "      <td>0.855878</td>\n",
       "      <td>0.908939</td>\n",
       "      <td>0.920886</td>\n",
       "    </tr>\n",
       "  </tbody>\n",
       "</table>\n",
       "</div>"
      ],
      "text/plain": [
       "   Channel  Threshold  AccuracyLR_mean  AccuracyNB_mean  SensitivityLR_mean  \\\n",
       "0      830         70         0.954190         0.915560            0.357476   \n",
       "1     1370         70         0.975948         0.960485            0.000000   \n",
       "2     2020         70         0.923044         0.832462            0.702504   \n",
       "3     3860         70         0.903227         0.851233            0.624384   \n",
       "4     9230         70         0.934643         0.812224            0.157649   \n",
       "\n",
       "   SensitivityNB_mean  SpecificityLR_mean  SpecificityNB_mean  \\\n",
       "0            0.656247            0.984858            0.928940   \n",
       "1            0.000000            0.998537            0.982744   \n",
       "2            0.786134            0.965454            0.841706   \n",
       "3            0.701559            0.960458            0.884082   \n",
       "4            0.546213            0.985485            0.831113   \n",
       "\n",
       "   FmeasureLR_mean  FmeasureNB_mean  PrecisionLR_mean  PrecisionNB_mean  \n",
       "0         0.947958         0.930692          0.948595          0.954219  \n",
       "1         0.965574         0.957704          0.955618          0.955300  \n",
       "2         0.920901         0.848430          0.925437          0.884460  \n",
       "3         0.899217         0.858657          0.904911          0.875965  \n",
       "4         0.918371         0.855878          0.908939          0.920886  "
      ]
     },
     "execution_count": 109,
     "metadata": {},
     "output_type": "execute_result"
    }
   ],
   "source": [
    "PerThresPerChannelDF.head()"
   ]
  },
  {
   "cell_type": "code",
   "execution_count": 110,
   "metadata": {
    "collapsed": true
   },
   "outputs": [],
   "source": [
    "PerThresPerChannelDF['CountChan'] = 1\n",
    "aggregator = {'AccuracyLR_mean' : 'mean',\n",
    "              'AccuracyNB_mean' : 'mean',\n",
    "              'SensitivityLR_mean': 'mean',\n",
    "              'SensitivityNB_mean' : 'mean',\n",
    "              'SpecificityLR_mean': 'mean',\n",
    "              'SpecificityNB_mean' : 'mean',\n",
    "              'FmeasureLR_mean':'mean',\n",
    "              'FmeasureNB_mean':'mean',\n",
    "              'PrecisionLR_mean': 'mean',\n",
    "              'PrecisionNB_mean': 'mean',\n",
    "              'CountChan': 'sum'}\n",
    "FinalResultsDF = PerThresPerChannelDF.groupby('Threshold', as_index=False)['AccuracyLR_mean', 'AccuracyNB_mean', \n",
    "                                                                 'SensitivityLR_mean', 'SensitivityNB_mean', \n",
    "                                                                 'SpecificityLR_mean', 'SpecificityNB_mean',\n",
    "                                                                 'PrecisionLR_mean','PrecisionNB_mean',\n",
    "                                                                 'FmeasureLR_mean', 'FmeasureNB_mean'].agg(aggregator)\n"
   ]
  },
  {
   "cell_type": "code",
   "execution_count": 111,
   "metadata": {
    "collapsed": true
   },
   "outputs": [],
   "source": [
    "#PerThresPerChannelDF = PerThresPerChannelDF.drop(['Channel'], 1)\n",
    "#FinalResultsDF = PerThresPerChannelDF.groupby(['Threshold']).mean().reset_index()\n",
    "FinalResultsDF['Cluster'] = '2'\n",
    "FinalResultsDF['pValue'] = pValue"
   ]
  },
  {
   "cell_type": "code",
   "execution_count": 112,
   "metadata": {},
   "outputs": [
    {
     "data": {
      "text/html": [
       "<div>\n",
       "<style>\n",
       "    .dataframe thead tr:only-child th {\n",
       "        text-align: right;\n",
       "    }\n",
       "\n",
       "    .dataframe thead th {\n",
       "        text-align: left;\n",
       "    }\n",
       "\n",
       "    .dataframe tbody tr th {\n",
       "        vertical-align: top;\n",
       "    }\n",
       "</style>\n",
       "<table border=\"1\" class=\"dataframe\">\n",
       "  <thead>\n",
       "    <tr style=\"text-align: right;\">\n",
       "      <th></th>\n",
       "      <th>Threshold</th>\n",
       "      <th>AccuracyLR_mean</th>\n",
       "      <th>AccuracyNB_mean</th>\n",
       "      <th>SensitivityLR_mean</th>\n",
       "      <th>SensitivityNB_mean</th>\n",
       "      <th>SpecificityLR_mean</th>\n",
       "      <th>SpecificityNB_mean</th>\n",
       "      <th>FmeasureLR_mean</th>\n",
       "      <th>FmeasureNB_mean</th>\n",
       "      <th>PrecisionLR_mean</th>\n",
       "      <th>PrecisionNB_mean</th>\n",
       "      <th>CountChan</th>\n",
       "      <th>Cluster</th>\n",
       "      <th>pValue</th>\n",
       "    </tr>\n",
       "  </thead>\n",
       "  <tbody>\n",
       "    <tr>\n",
       "      <th>0</th>\n",
       "      <td>70</td>\n",
       "      <td>0.948458</td>\n",
       "      <td>0.878009</td>\n",
       "      <td>0.462043</td>\n",
       "      <td>0.731838</td>\n",
       "      <td>0.972968</td>\n",
       "      <td>0.878027</td>\n",
       "      <td>0.943943</td>\n",
       "      <td>0.899268</td>\n",
       "      <td>0.943976</td>\n",
       "      <td>0.93607</td>\n",
       "      <td>81</td>\n",
       "      <td>2</td>\n",
       "      <td>1.280520e-127</td>\n",
       "    </tr>\n",
       "  </tbody>\n",
       "</table>\n",
       "</div>"
      ],
      "text/plain": [
       "   Threshold  AccuracyLR_mean  AccuracyNB_mean  SensitivityLR_mean  \\\n",
       "0         70         0.948458         0.878009            0.462043   \n",
       "\n",
       "   SensitivityNB_mean  SpecificityLR_mean  SpecificityNB_mean  \\\n",
       "0            0.731838            0.972968            0.878027   \n",
       "\n",
       "   FmeasureLR_mean  FmeasureNB_mean  PrecisionLR_mean  PrecisionNB_mean  \\\n",
       "0         0.943943         0.899268          0.943976           0.93607   \n",
       "\n",
       "   CountChan Cluster         pValue  \n",
       "0         81       2  1.280520e-127  "
      ]
     },
     "execution_count": 112,
     "metadata": {},
     "output_type": "execute_result"
    }
   ],
   "source": [
    "FinalResultsDF"
   ]
  },
  {
   "cell_type": "code",
   "execution_count": 113,
   "metadata": {
    "collapsed": true
   },
   "outputs": [],
   "source": [
    "# Write the results to a CSV\n",
    "FinalResultsDF.to_csv(Filepath+'Output/FinalResults.csv', header=False,sep='\\t', index=False, mode = 'a')"
   ]
  },
  {
   "cell_type": "code",
   "execution_count": null,
   "metadata": {
    "collapsed": true
   },
   "outputs": [],
   "source": []
  }
 ],
 "metadata": {
  "kernelspec": {
   "display_name": "Python 3",
   "language": "python",
   "name": "python3"
  },
  "language_info": {
   "codemirror_mode": {
    "name": "ipython",
    "version": 3
   },
   "file_extension": ".py",
   "mimetype": "text/x-python",
   "name": "python",
   "nbconvert_exporter": "python",
   "pygments_lexer": "ipython3",
   "version": "3.6.3"
  }
 },
 "nbformat": 4,
 "nbformat_minor": 2
}
