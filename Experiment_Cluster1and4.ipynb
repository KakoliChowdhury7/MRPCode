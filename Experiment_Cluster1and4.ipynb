{
 "cells": [
  {
   "cell_type": "code",
   "execution_count": 1,
   "metadata": {
    "collapsed": true
   },
   "outputs": [],
   "source": [
    "import pandas as pd\n",
    "import datetime\n",
    "import numpy as np\n",
    "from sklearn.model_selection import KFold\n",
    "from sklearn.linear_model import LogisticRegression\n",
    "from sklearn.naive_bayes import GaussianNB\n",
    "from sklearn.metrics import confusion_matrix\n",
    "from sklearn.metrics import accuracy_score\n",
    "import warnings\n",
    "warnings.filterwarnings(\"ignore\") \n",
    "from matplotlib import pyplot as plt\n",
    "from sklearn.metrics import f1_score\n",
    "from scipy import stats\n",
    "from sklearn.metrics import precision_score"
   ]
  },
  {
   "cell_type": "code",
   "execution_count": 2,
   "metadata": {
    "collapsed": true
   },
   "outputs": [],
   "source": [
    "Filepath = 'C:/Users/ChowdhKa/Downloads/Kakoli Masters/MRP/All File/'"
   ]
  },
  {
   "cell_type": "code",
   "execution_count": 3,
   "metadata": {
    "collapsed": true
   },
   "outputs": [],
   "source": [
    "# Read cluster file\n",
    "fields = ['Channel', 'clusterNum']\n",
    "clusterFile = pd.read_csv(Filepath+'All_Cluster.csv', skipinitialspace=True, usecols=fields)\n",
    "clusterFile = clusterFile[(clusterFile['clusterNum'] == 1)| (clusterFile['clusterNum'] == 4)]"
   ]
  },
  {
   "cell_type": "code",
   "execution_count": 4,
   "metadata": {},
   "outputs": [
    {
     "data": {
      "text/html": [
       "<div>\n",
       "<style>\n",
       "    .dataframe thead tr:only-child th {\n",
       "        text-align: right;\n",
       "    }\n",
       "\n",
       "    .dataframe thead th {\n",
       "        text-align: left;\n",
       "    }\n",
       "\n",
       "    .dataframe tbody tr th {\n",
       "        vertical-align: top;\n",
       "    }\n",
       "</style>\n",
       "<table border=\"1\" class=\"dataframe\">\n",
       "  <thead>\n",
       "    <tr style=\"text-align: right;\">\n",
       "      <th></th>\n",
       "      <th>Channel</th>\n",
       "      <th>clusterNum</th>\n",
       "    </tr>\n",
       "  </thead>\n",
       "  <tbody>\n",
       "    <tr>\n",
       "      <th>0</th>\n",
       "      <td>2340</td>\n",
       "      <td>1</td>\n",
       "    </tr>\n",
       "    <tr>\n",
       "      <th>1</th>\n",
       "      <td>10670</td>\n",
       "      <td>1</td>\n",
       "    </tr>\n",
       "    <tr>\n",
       "      <th>2</th>\n",
       "      <td>10930</td>\n",
       "      <td>1</td>\n",
       "    </tr>\n",
       "    <tr>\n",
       "      <th>3</th>\n",
       "      <td>11710</td>\n",
       "      <td>1</td>\n",
       "    </tr>\n",
       "    <tr>\n",
       "      <th>4</th>\n",
       "      <td>11720</td>\n",
       "      <td>1</td>\n",
       "    </tr>\n",
       "  </tbody>\n",
       "</table>\n",
       "</div>"
      ],
      "text/plain": [
       "   Channel  clusterNum\n",
       "0     2340           1\n",
       "1    10670           1\n",
       "2    10930           1\n",
       "3    11710           1\n",
       "4    11720           1"
      ]
     },
     "execution_count": 4,
     "metadata": {},
     "output_type": "execute_result"
    }
   ],
   "source": [
    "clusterFile.head()"
   ]
  },
  {
   "cell_type": "code",
   "execution_count": 5,
   "metadata": {},
   "outputs": [
    {
     "data": {
      "text/plain": [
       "(96, 2)"
      ]
     },
     "execution_count": 5,
     "metadata": {},
     "output_type": "execute_result"
    }
   ],
   "source": [
    "clusterFile.shape"
   ]
  },
  {
   "cell_type": "code",
   "execution_count": 6,
   "metadata": {},
   "outputs": [
    {
     "data": {
      "text/html": [
       "<div>\n",
       "<style>\n",
       "    .dataframe thead tr:only-child th {\n",
       "        text-align: right;\n",
       "    }\n",
       "\n",
       "    .dataframe thead th {\n",
       "        text-align: left;\n",
       "    }\n",
       "\n",
       "    .dataframe tbody tr th {\n",
       "        vertical-align: top;\n",
       "    }\n",
       "</style>\n",
       "<table border=\"1\" class=\"dataframe\">\n",
       "  <thead>\n",
       "    <tr style=\"text-align: right;\">\n",
       "      <th></th>\n",
       "      <th>StartDate</th>\n",
       "      <th>EndDate</th>\n",
       "      <th>Channel</th>\n",
       "      <th>Pwr_dbm</th>\n",
       "      <th>Snr</th>\n",
       "      <th>Occupancy</th>\n",
       "    </tr>\n",
       "  </thead>\n",
       "  <tbody>\n",
       "    <tr>\n",
       "      <th>0</th>\n",
       "      <td>2016-10-06</td>\n",
       "      <td>2016-10-06 01:00:00</td>\n",
       "      <td>56303</td>\n",
       "      <td>-83.293709</td>\n",
       "      <td>21.397917</td>\n",
       "      <td>100.0</td>\n",
       "    </tr>\n",
       "    <tr>\n",
       "      <th>1</th>\n",
       "      <td>2016-10-06</td>\n",
       "      <td>2016-10-06 01:00:00</td>\n",
       "      <td>56304</td>\n",
       "      <td>-63.193748</td>\n",
       "      <td>41.497952</td>\n",
       "      <td>100.0</td>\n",
       "    </tr>\n",
       "    <tr>\n",
       "      <th>2</th>\n",
       "      <td>2016-10-06</td>\n",
       "      <td>2016-10-06 01:00:00</td>\n",
       "      <td>56305</td>\n",
       "      <td>-31.322813</td>\n",
       "      <td>73.445999</td>\n",
       "      <td>100.0</td>\n",
       "    </tr>\n",
       "    <tr>\n",
       "      <th>3</th>\n",
       "      <td>2016-10-06</td>\n",
       "      <td>2016-10-06 01:00:00</td>\n",
       "      <td>56306</td>\n",
       "      <td>-64.096245</td>\n",
       "      <td>41.568588</td>\n",
       "      <td>100.0</td>\n",
       "    </tr>\n",
       "    <tr>\n",
       "      <th>4</th>\n",
       "      <td>2016-10-06</td>\n",
       "      <td>2016-10-06 01:00:00</td>\n",
       "      <td>56307</td>\n",
       "      <td>-83.440269</td>\n",
       "      <td>21.249647</td>\n",
       "      <td>100.0</td>\n",
       "    </tr>\n",
       "  </tbody>\n",
       "</table>\n",
       "</div>"
      ],
      "text/plain": [
       "   StartDate             EndDate  Channel    Pwr_dbm        Snr  Occupancy\n",
       "0 2016-10-06 2016-10-06 01:00:00    56303 -83.293709  21.397917      100.0\n",
       "1 2016-10-06 2016-10-06 01:00:00    56304 -63.193748  41.497952      100.0\n",
       "2 2016-10-06 2016-10-06 01:00:00    56305 -31.322813  73.445999      100.0\n",
       "3 2016-10-06 2016-10-06 01:00:00    56306 -64.096245  41.568588      100.0\n",
       "4 2016-10-06 2016-10-06 01:00:00    56307 -83.440269  21.249647      100.0"
      ]
     },
     "execution_count": 6,
     "metadata": {},
     "output_type": "execute_result"
    }
   ],
   "source": [
    "#read layer 3 data csv\n",
    "df=pd.read_csv(Filepath+'OctDataSmall.csv')\n",
    "df.columns = ['StartDate', 'EndDate', 'Channel', 'Pwr_dbm','Snr', 'Occupancy']\n",
    "df['StartDate'] = pd.to_datetime(df['StartDate'])\n",
    "df['EndDate'] = pd.to_datetime(df['EndDate'])\n",
    "df['StartDate'] = df['StartDate'].values.astype('<M8[h]')\n",
    "df['EndDate'] = df['EndDate'].values.astype('<M8[h]')\n",
    "df.head()"
   ]
  },
  {
   "cell_type": "code",
   "execution_count": 7,
   "metadata": {
    "collapsed": true
   },
   "outputs": [],
   "source": [
    "#putting dataframe in another dataframe \n",
    "dataf = df"
   ]
  },
  {
   "cell_type": "code",
   "execution_count": 8,
   "metadata": {},
   "outputs": [
    {
     "data": {
      "text/html": [
       "<div>\n",
       "<style>\n",
       "    .dataframe thead tr:only-child th {\n",
       "        text-align: right;\n",
       "    }\n",
       "\n",
       "    .dataframe thead th {\n",
       "        text-align: left;\n",
       "    }\n",
       "\n",
       "    .dataframe tbody tr th {\n",
       "        vertical-align: top;\n",
       "    }\n",
       "</style>\n",
       "<table border=\"1\" class=\"dataframe\">\n",
       "  <thead>\n",
       "    <tr style=\"text-align: right;\">\n",
       "      <th></th>\n",
       "      <th>Channel</th>\n",
       "      <th>StartDate</th>\n",
       "      <th>EndDate</th>\n",
       "      <th>Pwr_dbm</th>\n",
       "      <th>Snr</th>\n",
       "      <th>Occupancy</th>\n",
       "      <th>per_read</th>\n",
       "    </tr>\n",
       "  </thead>\n",
       "  <tbody>\n",
       "    <tr>\n",
       "      <th>1</th>\n",
       "      <td>10</td>\n",
       "      <td>2016-10-07 08:00:00</td>\n",
       "      <td>2016-10-07 09:00:00</td>\n",
       "      <td>-91.500000</td>\n",
       "      <td>11.700000</td>\n",
       "      <td>0.074493</td>\n",
       "      <td>82.82504</td>\n",
       "    </tr>\n",
       "    <tr>\n",
       "      <th>2</th>\n",
       "      <td>10</td>\n",
       "      <td>2016-10-21 21:00:00</td>\n",
       "      <td>2016-10-21 22:00:00</td>\n",
       "      <td>-90.774193</td>\n",
       "      <td>12.806452</td>\n",
       "      <td>0.466165</td>\n",
       "      <td>82.82504</td>\n",
       "    </tr>\n",
       "    <tr>\n",
       "      <th>3</th>\n",
       "      <td>10</td>\n",
       "      <td>2016-10-11 01:00:00</td>\n",
       "      <td>2016-10-11 02:00:00</td>\n",
       "      <td>-91.592590</td>\n",
       "      <td>11.444445</td>\n",
       "      <td>0.203912</td>\n",
       "      <td>82.82504</td>\n",
       "    </tr>\n",
       "    <tr>\n",
       "      <th>4</th>\n",
       "      <td>10</td>\n",
       "      <td>2016-10-21 12:00:00</td>\n",
       "      <td>2016-10-21 13:00:00</td>\n",
       "      <td>-91.340424</td>\n",
       "      <td>11.851064</td>\n",
       "      <td>0.352800</td>\n",
       "      <td>82.82504</td>\n",
       "    </tr>\n",
       "    <tr>\n",
       "      <th>5</th>\n",
       "      <td>10</td>\n",
       "      <td>2016-10-20 23:00:00</td>\n",
       "      <td>2016-10-21 00:00:00</td>\n",
       "      <td>-92.064514</td>\n",
       "      <td>11.580646</td>\n",
       "      <td>0.237639</td>\n",
       "      <td>82.82504</td>\n",
       "    </tr>\n",
       "  </tbody>\n",
       "</table>\n",
       "</div>"
      ],
      "text/plain": [
       "   Channel           StartDate             EndDate    Pwr_dbm        Snr  \\\n",
       "1       10 2016-10-07 08:00:00 2016-10-07 09:00:00 -91.500000  11.700000   \n",
       "2       10 2016-10-21 21:00:00 2016-10-21 22:00:00 -90.774193  12.806452   \n",
       "3       10 2016-10-11 01:00:00 2016-10-11 02:00:00 -91.592590  11.444445   \n",
       "4       10 2016-10-21 12:00:00 2016-10-21 13:00:00 -91.340424  11.851064   \n",
       "5       10 2016-10-20 23:00:00 2016-10-21 00:00:00 -92.064514  11.580646   \n",
       "\n",
       "   Occupancy  per_read  \n",
       "1   0.074493  82.82504  \n",
       "2   0.466165  82.82504  \n",
       "3   0.203912  82.82504  \n",
       "4   0.352800  82.82504  \n",
       "5   0.237639  82.82504  "
      ]
     },
     "execution_count": 8,
     "metadata": {},
     "output_type": "execute_result"
    }
   ],
   "source": [
    "# Take the data frame from R file\n",
    "df_merged=pd.read_csv(Filepath+'testcsv.csv',delimiter=\"\\t\")\n",
    "#print(df_merged)\n",
    "df_merged.columns = ['Channel','StartDate', 'EndDate', 'Pwr_dbm','Snr', 'Occupancy','per_read']\n",
    "df_merged['StartDate'] = pd.to_datetime(df_merged['StartDate'])\n",
    "df_merged['EndDate'] = pd.to_datetime(df_merged['EndDate'])\n",
    "df_merged['StartDate'] = df_merged['StartDate'].values.astype('<M8[h]')\n",
    "df_merged['EndDate'] = df_merged['EndDate'].values.astype('<M8[h]')\n",
    "df_merged.head()"
   ]
  },
  {
   "cell_type": "code",
   "execution_count": 9,
   "metadata": {
    "collapsed": true
   },
   "outputs": [],
   "source": [
    "# Taking only the required columns\n",
    "df_merged = df_merged[['Channel','StartDate', 'EndDate', 'Occupancy']]"
   ]
  },
  {
   "cell_type": "code",
   "execution_count": 10,
   "metadata": {},
   "outputs": [
    {
     "data": {
      "text/html": [
       "<div>\n",
       "<style>\n",
       "    .dataframe thead tr:only-child th {\n",
       "        text-align: right;\n",
       "    }\n",
       "\n",
       "    .dataframe thead th {\n",
       "        text-align: left;\n",
       "    }\n",
       "\n",
       "    .dataframe tbody tr th {\n",
       "        vertical-align: top;\n",
       "    }\n",
       "</style>\n",
       "<table border=\"1\" class=\"dataframe\">\n",
       "  <thead>\n",
       "    <tr style=\"text-align: right;\">\n",
       "      <th></th>\n",
       "      <th>Channel</th>\n",
       "      <th>StartDate</th>\n",
       "      <th>EndDate</th>\n",
       "      <th>Occupancy</th>\n",
       "    </tr>\n",
       "  </thead>\n",
       "  <tbody>\n",
       "    <tr>\n",
       "      <th>1</th>\n",
       "      <td>10</td>\n",
       "      <td>2016-10-07 08:00:00</td>\n",
       "      <td>2016-10-07 09:00:00</td>\n",
       "      <td>0.074493</td>\n",
       "    </tr>\n",
       "    <tr>\n",
       "      <th>2</th>\n",
       "      <td>10</td>\n",
       "      <td>2016-10-21 21:00:00</td>\n",
       "      <td>2016-10-21 22:00:00</td>\n",
       "      <td>0.466165</td>\n",
       "    </tr>\n",
       "  </tbody>\n",
       "</table>\n",
       "</div>"
      ],
      "text/plain": [
       "   Channel           StartDate             EndDate  Occupancy\n",
       "1       10 2016-10-07 08:00:00 2016-10-07 09:00:00   0.074493\n",
       "2       10 2016-10-21 21:00:00 2016-10-21 22:00:00   0.466165"
      ]
     },
     "execution_count": 10,
     "metadata": {},
     "output_type": "execute_result"
    }
   ],
   "source": [
    "df_merged.head(2)"
   ]
  },
  {
   "cell_type": "code",
   "execution_count": 11,
   "metadata": {},
   "outputs": [
    {
     "data": {
      "text/plain": [
       "(1214664, 4)"
      ]
     },
     "execution_count": 11,
     "metadata": {},
     "output_type": "execute_result"
    }
   ],
   "source": [
    "df_merged.shape"
   ]
  },
  {
   "cell_type": "code",
   "execution_count": 12,
   "metadata": {},
   "outputs": [
    {
     "data": {
      "text/html": [
       "<div>\n",
       "<style>\n",
       "    .dataframe thead tr:only-child th {\n",
       "        text-align: right;\n",
       "    }\n",
       "\n",
       "    .dataframe thead th {\n",
       "        text-align: left;\n",
       "    }\n",
       "\n",
       "    .dataframe tbody tr th {\n",
       "        vertical-align: top;\n",
       "    }\n",
       "</style>\n",
       "<table border=\"1\" class=\"dataframe\">\n",
       "  <thead>\n",
       "    <tr style=\"text-align: right;\">\n",
       "      <th></th>\n",
       "      <th>Channel</th>\n",
       "      <th>clusterNum</th>\n",
       "    </tr>\n",
       "  </thead>\n",
       "  <tbody>\n",
       "    <tr>\n",
       "      <th>0</th>\n",
       "      <td>2340</td>\n",
       "      <td>1</td>\n",
       "    </tr>\n",
       "    <tr>\n",
       "      <th>1</th>\n",
       "      <td>10670</td>\n",
       "      <td>1</td>\n",
       "    </tr>\n",
       "  </tbody>\n",
       "</table>\n",
       "</div>"
      ],
      "text/plain": [
       "   Channel  clusterNum\n",
       "0     2340           1\n",
       "1    10670           1"
      ]
     },
     "execution_count": 12,
     "metadata": {},
     "output_type": "execute_result"
    }
   ],
   "source": [
    "clusterFile.head(2)"
   ]
  },
  {
   "cell_type": "code",
   "execution_count": 13,
   "metadata": {
    "collapsed": true
   },
   "outputs": [],
   "source": [
    "# JOIN df_merged and clusterFile on channels\n",
    "clusterChannelDF = pd.merge(clusterFile, df_merged[['Channel', 'StartDate', 'EndDate', 'Occupancy']],on='Channel')\n",
    "clusterChannelDF = clusterChannelDF.drop(['clusterNum'], 1)"
   ]
  },
  {
   "cell_type": "code",
   "execution_count": 14,
   "metadata": {},
   "outputs": [
    {
     "data": {
      "text/html": [
       "<div>\n",
       "<style>\n",
       "    .dataframe thead tr:only-child th {\n",
       "        text-align: right;\n",
       "    }\n",
       "\n",
       "    .dataframe thead th {\n",
       "        text-align: left;\n",
       "    }\n",
       "\n",
       "    .dataframe tbody tr th {\n",
       "        vertical-align: top;\n",
       "    }\n",
       "</style>\n",
       "<table border=\"1\" class=\"dataframe\">\n",
       "  <thead>\n",
       "    <tr style=\"text-align: right;\">\n",
       "      <th></th>\n",
       "      <th>Channel</th>\n",
       "      <th>StartDate</th>\n",
       "      <th>EndDate</th>\n",
       "      <th>Occupancy</th>\n",
       "    </tr>\n",
       "  </thead>\n",
       "  <tbody>\n",
       "    <tr>\n",
       "      <th>0</th>\n",
       "      <td>2340</td>\n",
       "      <td>2016-10-15 00:00:00</td>\n",
       "      <td>2016-10-15 01:00:00</td>\n",
       "      <td>67.118799</td>\n",
       "    </tr>\n",
       "    <tr>\n",
       "      <th>1</th>\n",
       "      <td>2340</td>\n",
       "      <td>2016-10-16 00:00:00</td>\n",
       "      <td>2016-10-16 01:00:00</td>\n",
       "      <td>73.872579</td>\n",
       "    </tr>\n",
       "    <tr>\n",
       "      <th>2</th>\n",
       "      <td>2340</td>\n",
       "      <td>2016-10-12 06:00:00</td>\n",
       "      <td>2016-10-12 07:00:00</td>\n",
       "      <td>100.000000</td>\n",
       "    </tr>\n",
       "    <tr>\n",
       "      <th>3</th>\n",
       "      <td>2340</td>\n",
       "      <td>2016-10-28 17:00:00</td>\n",
       "      <td>2016-10-28 18:00:00</td>\n",
       "      <td>12.049958</td>\n",
       "    </tr>\n",
       "    <tr>\n",
       "      <th>4</th>\n",
       "      <td>2340</td>\n",
       "      <td>2016-10-31 09:00:00</td>\n",
       "      <td>2016-10-31 10:00:00</td>\n",
       "      <td>87.301233</td>\n",
       "    </tr>\n",
       "  </tbody>\n",
       "</table>\n",
       "</div>"
      ],
      "text/plain": [
       "   Channel           StartDate             EndDate   Occupancy\n",
       "0     2340 2016-10-15 00:00:00 2016-10-15 01:00:00   67.118799\n",
       "1     2340 2016-10-16 00:00:00 2016-10-16 01:00:00   73.872579\n",
       "2     2340 2016-10-12 06:00:00 2016-10-12 07:00:00  100.000000\n",
       "3     2340 2016-10-28 17:00:00 2016-10-28 18:00:00   12.049958\n",
       "4     2340 2016-10-31 09:00:00 2016-10-31 10:00:00   87.301233"
      ]
     },
     "execution_count": 14,
     "metadata": {},
     "output_type": "execute_result"
    }
   ],
   "source": [
    "clusterChannelDF.head()"
   ]
  },
  {
   "cell_type": "code",
   "execution_count": 15,
   "metadata": {},
   "outputs": [
    {
     "data": {
      "text/plain": [
       "(49536, 4)"
      ]
     },
     "execution_count": 15,
     "metadata": {},
     "output_type": "execute_result"
    }
   ],
   "source": [
    "clusterChannelDF.shape"
   ]
  },
  {
   "cell_type": "code",
   "execution_count": 16,
   "metadata": {
    "collapsed": true
   },
   "outputs": [],
   "source": [
    "#Getting the final channel list\n",
    "\n",
    "channelList = clusterChannelDF.Channel.unique().tolist()\n",
    "#channelList = np.random.choice(channel, 300, replace=False)"
   ]
  },
  {
   "cell_type": "code",
   "execution_count": 17,
   "metadata": {
    "collapsed": true
   },
   "outputs": [],
   "source": [
    "#channelList.tolist()"
   ]
  },
  {
   "cell_type": "code",
   "execution_count": 18,
   "metadata": {
    "collapsed": true
   },
   "outputs": [],
   "source": [
    "#channelList = [20750,22320,23200,28430,34680,34690,50267,15220,15530,15570,15820,16010,16130]#,\n",
    "               #21340,24220,25410,53970,54006,54494,54620,56097,56293,56305,56306,56307]"
   ]
  },
  {
   "cell_type": "code",
   "execution_count": 19,
   "metadata": {
    "collapsed": true
   },
   "outputs": [],
   "source": [
    "#channelList = [20750,22320,23200,28430]\n",
    "               #,34680,34690,50267,15220,15530,15570,15820,16010,16130,\n",
    "               #21340,24220,25410,53970,54006,54494,54620,56097,56293,56305,56306,56307]"
   ]
  },
  {
   "cell_type": "code",
   "execution_count": 20,
   "metadata": {
    "collapsed": true
   },
   "outputs": [],
   "source": [
    "OriginalMergedDF = clusterChannelDF"
   ]
  },
  {
   "cell_type": "code",
   "execution_count": 21,
   "metadata": {
    "collapsed": true
   },
   "outputs": [],
   "source": [
    "def ProcessDF(channel, threshold):\n",
    "    InterDF = OriginalMergedDF[(OriginalMergedDF.Channel == channel)][['StartDate', 'EndDate', 'Channel', 'Occupancy']]\n",
    "    InterDF = InterDF.set_index('StartDate')\n",
    "    InterDF = InterDF.sort_index()\n",
    "    indexStart = InterDF.index[0]\n",
    "    indexEnd = InterDF.index[-1]\n",
    "    InterDF= InterDF.reindex(pd.date_range(start=indexStart, end=indexEnd, freq='1h'))\n",
    "    shiftVales = 2\n",
    "    InterDF['Occupancy1'] = InterDF['Occupancy'].shift()\n",
    "    while shiftVales <=6:\n",
    "        InterDF['Occupancy'+str(shiftVales)] = InterDF['Occupancy'+str(shiftVales-1)].shift()\n",
    "        shiftVales=shiftVales+1\n",
    "    # Convert index back to dataframe column\n",
    "    InterDF.reset_index(level=0, inplace=True)\n",
    "    InterDF.drop(InterDF.columns[[0,1]], axis=1, inplace=True)\n",
    "    InterDF = InterDF.dropna(how='any', axis = 0)\n",
    "    #InterDF['OccupancyLabel'] = np.where(InterDF['Occupancy'] > threshold, 1,0)\n",
    "    InterDF['OccupancyLabel'] = pd.cut(InterDF['Occupancy'], [-np.inf, threshold, np.inf], labels=[0, 1])\n",
    "    return InterDF"
   ]
  },
  {
   "cell_type": "code",
   "execution_count": 22,
   "metadata": {
    "collapsed": true
   },
   "outputs": [],
   "source": [
    "def GausNB(X_train, y_train, X_test, y_test):\n",
    "    model = GaussianNB()\n",
    "    model.fit(X_train, y_train)\n",
    "    predicted = model.predict(X_test)\n",
    "    confusion_NB = confusion_matrix(y_test, predicted, labels=[0,1])\n",
    "    # Accuracy\n",
    "    scoreNB = accuracy_score(y_test, predicted)\n",
    "    # Sensitivity\n",
    "    senseNB = confusion_NB[1,1]/(confusion_NB[1,0]+confusion_NB[1,1])\n",
    "    # Specificity\n",
    "    specificNB = confusion_NB[0,0]/(confusion_NB[0,0]+confusion_NB[0,1])\n",
    "    # F-measure\n",
    "    fmeasureNB = f1_score(y_test, predicted,average='weighted')\n",
    "    # Precision\n",
    "    precisionscoreNB = precision_score(y_test, predicted, average='weighted')\n",
    "\n",
    "    return scoreNB, senseNB, specificNB, fmeasureNB, precisionscoreNB"
   ]
  },
  {
   "cell_type": "code",
   "execution_count": 23,
   "metadata": {
    "collapsed": true
   },
   "outputs": [],
   "source": [
    "def LogReg(X_train, y_train, X_test, y_test):\n",
    "    reg = LogisticRegression()\n",
    "    modfit = reg.fit(X_train, y_train)\n",
    "    yPred = modfit.predict(X_test)\n",
    "    confusion_LR = confusion_matrix(y_test, yPred, labels=[0,1])\n",
    "    # Accuracy\n",
    "    # scoreLR = modfit.score(X_test, y_test)\n",
    "    scoreLR = (confusion_LR[0,0]+confusion_LR[1,1])/(confusion_LR[0,0]+confusion_LR[0,1]+confusion_LR[1,0]+confusion_LR[1,1])\n",
    "    # Sensitivity\n",
    "    senseLR = confusion_LR[1,1]/(confusion_LR[1,0]+confusion_LR[1,1])\n",
    "    # Specificity\n",
    "    specificLR = confusion_LR[0,0]/(confusion_LR[0,0]+confusion_LR[0,1])\n",
    "    # F-measure\n",
    "    fmeasureLR = f1_score(y_test, yPred, average='weighted')\n",
    "    # Precision\n",
    "    precisionscoreLR = precision_score(y_test, yPred, average='weighted')\n",
    "\n",
    "    return scoreLR, senseLR, specificLR, fmeasureLR, precisionscoreLR"
   ]
  },
  {
   "cell_type": "code",
   "execution_count": 24,
   "metadata": {
    "collapsed": true
   },
   "outputs": [],
   "source": [
    "#print(k[1])"
   ]
  },
  {
   "cell_type": "code",
   "execution_count": 25,
   "metadata": {
    "collapsed": true
   },
   "outputs": [],
   "source": [
    "# Defining the threshold for class labeling\n",
    "SaveDataDF = pd.DataFrame([])\n",
    "t = 70\n",
    "#list_threshold = [0, 10, 20, 30, 40, 50, 60, 70, 80, 90, 100]\n",
    "#list_threshold = [40, 50, 60, 70]\n",
    "#for t in list_threshold:\n",
    "for channel in channelList:\n",
    "    #print('Value of Threshold: ' + str(t))\n",
    "    #print('Current channel is: '+ str(channel))\n",
    "\n",
    "    ProcessedDF = ProcessDF(channel, t)\n",
    "    ProcessedDFx = ProcessedDF[(ProcessedDF.Channel == channel)][['Channel', 'Occupancy1', 'Occupancy2', 'Occupancy3', 'Occupancy4', 'Occupancy5', 'Occupancy6']]\n",
    "    ProcessedDFy = ProcessedDF[(ProcessedDF.Channel == channel)][['OccupancyLabel']] \n",
    "    #print(ProcessedDFy.OccupancyLabel.unique())\n",
    "    #print(ProcessedDFy['OccupancyLabel'].value_counts())\n",
    "    k = ProcessedDFy.groupby('OccupancyLabel').size()\n",
    "    #print('k[0]: '+ str(k[0]))\n",
    "    #print('k[1]: '+ str(k[1]))\n",
    "    if (k[0] > 5 and k[1] > 5):\n",
    "        RunIter = 1\n",
    "        while RunIter <= 10:\n",
    "            foldCounter = 1\n",
    "            kc = KFold(n_splits = 10, shuffle=True)\n",
    "            for train_x, test_x in kc.split(ProcessedDFx, ProcessedDFy):\n",
    "                X_trainDF, X_testDF = ProcessedDFx.iloc[train_x], ProcessedDFx.iloc[test_x]\n",
    "                y_trainDF, y_testDF = ProcessedDFy.iloc[train_x], ProcessedDFy.iloc[test_x]\n",
    "\n",
    "\n",
    "                # Naive Bayes\n",
    "                scoreNB, sensitivityNB, specificityNB, fmeasureNB, precisionNB = GausNB(X_trainDF, y_trainDF, X_testDF, y_testDF)\n",
    "                #if len(y_trainDF.OccupancyLabel.unique()) > 1:\n",
    "                # Logistic Regression\n",
    "                scoreLR, sensitivityLR, specificityLR, fmeasureLR, precisionLR = LogReg(X_trainDF, y_trainDF, X_testDF, y_testDF)\n",
    "\n",
    "                # PRINT ROW VALUE IN DATAFRAME- KEEP APPENDING\n",
    "                SaveDataDF = SaveDataDF.append(pd.DataFrame({'Channel': channel, 'Threshold': t,\n",
    "                                                             'RunCount': RunIter,'FoldCount': foldCounter,\n",
    "                                                             'AccuracyLR': scoreLR, 'SensitivityLR': sensitivityLR,\n",
    "                                                             'SpecificityLR': specificityLR, 'AccuracyNB': scoreNB,\n",
    "                                                             'SensitivityNB': sensitivityNB, 'SpecificityNB': specificityNB,\n",
    "                                                             'fmeasureNB': fmeasureNB, 'fmeasureLR': fmeasureLR,\n",
    "                                                             'precisionLR': precisionLR, 'precisionNB': precisionNB\n",
    "                                                            }, \n",
    "                                                            index=[0]), ignore_index=True)\n",
    "            foldCounter = foldCounter + 1\n",
    "            RunIter = RunIter + 1\n"
   ]
  },
  {
   "cell_type": "code",
   "execution_count": 26,
   "metadata": {
    "collapsed": true
   },
   "outputs": [],
   "source": [
    "#fmeasureLR"
   ]
  },
  {
   "cell_type": "code",
   "execution_count": 27,
   "metadata": {
    "collapsed": true
   },
   "outputs": [],
   "source": [
    "#ProcessedDFy.head()"
   ]
  },
  {
   "cell_type": "code",
   "execution_count": 28,
   "metadata": {},
   "outputs": [
    {
     "data": {
      "text/html": [
       "<div>\n",
       "<style>\n",
       "    .dataframe thead tr:only-child th {\n",
       "        text-align: right;\n",
       "    }\n",
       "\n",
       "    .dataframe thead th {\n",
       "        text-align: left;\n",
       "    }\n",
       "\n",
       "    .dataframe tbody tr th {\n",
       "        vertical-align: top;\n",
       "    }\n",
       "</style>\n",
       "<table border=\"1\" class=\"dataframe\">\n",
       "  <thead>\n",
       "    <tr style=\"text-align: right;\">\n",
       "      <th></th>\n",
       "      <th>Channel</th>\n",
       "      <th>Occupancy1</th>\n",
       "      <th>Occupancy2</th>\n",
       "      <th>Occupancy3</th>\n",
       "      <th>Occupancy4</th>\n",
       "      <th>Occupancy5</th>\n",
       "      <th>Occupancy6</th>\n",
       "    </tr>\n",
       "  </thead>\n",
       "  <tbody>\n",
       "    <tr>\n",
       "      <th>6</th>\n",
       "      <td>56381.0</td>\n",
       "      <td>5.999848</td>\n",
       "      <td>16.680492</td>\n",
       "      <td>19.736352</td>\n",
       "      <td>36.970781</td>\n",
       "      <td>50.900834</td>\n",
       "      <td>62.322293</td>\n",
       "    </tr>\n",
       "    <tr>\n",
       "      <th>7</th>\n",
       "      <td>56381.0</td>\n",
       "      <td>10.429859</td>\n",
       "      <td>5.999848</td>\n",
       "      <td>16.680492</td>\n",
       "      <td>19.736352</td>\n",
       "      <td>36.970781</td>\n",
       "      <td>50.900834</td>\n",
       "    </tr>\n",
       "    <tr>\n",
       "      <th>8</th>\n",
       "      <td>56381.0</td>\n",
       "      <td>12.751678</td>\n",
       "      <td>10.429859</td>\n",
       "      <td>5.999848</td>\n",
       "      <td>16.680492</td>\n",
       "      <td>19.736352</td>\n",
       "      <td>36.970781</td>\n",
       "    </tr>\n",
       "    <tr>\n",
       "      <th>9</th>\n",
       "      <td>56381.0</td>\n",
       "      <td>7.082002</td>\n",
       "      <td>12.751678</td>\n",
       "      <td>10.429859</td>\n",
       "      <td>5.999848</td>\n",
       "      <td>16.680492</td>\n",
       "      <td>19.736352</td>\n",
       "    </tr>\n",
       "    <tr>\n",
       "      <th>10</th>\n",
       "      <td>56381.0</td>\n",
       "      <td>21.948991</td>\n",
       "      <td>7.082002</td>\n",
       "      <td>12.751678</td>\n",
       "      <td>10.429859</td>\n",
       "      <td>5.999848</td>\n",
       "      <td>16.680492</td>\n",
       "    </tr>\n",
       "  </tbody>\n",
       "</table>\n",
       "</div>"
      ],
      "text/plain": [
       "    Channel  Occupancy1  Occupancy2  Occupancy3  Occupancy4  Occupancy5  \\\n",
       "6   56381.0    5.999848   16.680492   19.736352   36.970781   50.900834   \n",
       "7   56381.0   10.429859    5.999848   16.680492   19.736352   36.970781   \n",
       "8   56381.0   12.751678   10.429859    5.999848   16.680492   19.736352   \n",
       "9   56381.0    7.082002   12.751678   10.429859    5.999848   16.680492   \n",
       "10  56381.0   21.948991    7.082002   12.751678   10.429859    5.999848   \n",
       "\n",
       "    Occupancy6  \n",
       "6    62.322293  \n",
       "7    50.900834  \n",
       "8    36.970781  \n",
       "9    19.736352  \n",
       "10   16.680492  "
      ]
     },
     "execution_count": 28,
     "metadata": {},
     "output_type": "execute_result"
    }
   ],
   "source": [
    "ProcessedDFx.head()"
   ]
  },
  {
   "cell_type": "code",
   "execution_count": 29,
   "metadata": {},
   "outputs": [
    {
     "data": {
      "text/html": [
       "<div>\n",
       "<style>\n",
       "    .dataframe thead tr:only-child th {\n",
       "        text-align: right;\n",
       "    }\n",
       "\n",
       "    .dataframe thead th {\n",
       "        text-align: left;\n",
       "    }\n",
       "\n",
       "    .dataframe tbody tr th {\n",
       "        vertical-align: top;\n",
       "    }\n",
       "</style>\n",
       "<table border=\"1\" class=\"dataframe\">\n",
       "  <thead>\n",
       "    <tr style=\"text-align: right;\">\n",
       "      <th></th>\n",
       "      <th>AccuracyLR</th>\n",
       "      <th>AccuracyNB</th>\n",
       "      <th>Channel</th>\n",
       "      <th>FoldCount</th>\n",
       "      <th>RunCount</th>\n",
       "      <th>SensitivityLR</th>\n",
       "      <th>SensitivityNB</th>\n",
       "      <th>SpecificityLR</th>\n",
       "      <th>SpecificityNB</th>\n",
       "      <th>Threshold</th>\n",
       "      <th>fmeasureLR</th>\n",
       "      <th>fmeasureNB</th>\n",
       "      <th>precisionLR</th>\n",
       "      <th>precisionNB</th>\n",
       "    </tr>\n",
       "  </thead>\n",
       "  <tbody>\n",
       "    <tr>\n",
       "      <th>0</th>\n",
       "      <td>0.897959</td>\n",
       "      <td>0.836735</td>\n",
       "      <td>2340</td>\n",
       "      <td>1</td>\n",
       "      <td>1</td>\n",
       "      <td>0.800000</td>\n",
       "      <td>0.733333</td>\n",
       "      <td>0.941176</td>\n",
       "      <td>0.882353</td>\n",
       "      <td>70</td>\n",
       "      <td>0.896939</td>\n",
       "      <td>0.836735</td>\n",
       "      <td>0.896793</td>\n",
       "      <td>0.836735</td>\n",
       "    </tr>\n",
       "    <tr>\n",
       "      <th>1</th>\n",
       "      <td>0.775510</td>\n",
       "      <td>0.795918</td>\n",
       "      <td>2340</td>\n",
       "      <td>1</td>\n",
       "      <td>1</td>\n",
       "      <td>0.625000</td>\n",
       "      <td>0.750000</td>\n",
       "      <td>0.848485</td>\n",
       "      <td>0.818182</td>\n",
       "      <td>70</td>\n",
       "      <td>0.773565</td>\n",
       "      <td>0.798732</td>\n",
       "      <td>0.772309</td>\n",
       "      <td>0.804257</td>\n",
       "    </tr>\n",
       "    <tr>\n",
       "      <th>2</th>\n",
       "      <td>0.857143</td>\n",
       "      <td>0.816327</td>\n",
       "      <td>2340</td>\n",
       "      <td>1</td>\n",
       "      <td>1</td>\n",
       "      <td>0.600000</td>\n",
       "      <td>0.500000</td>\n",
       "      <td>0.923077</td>\n",
       "      <td>0.897436</td>\n",
       "      <td>70</td>\n",
       "      <td>0.854288</td>\n",
       "      <td>0.812656</td>\n",
       "      <td>0.852381</td>\n",
       "      <td>0.809807</td>\n",
       "    </tr>\n",
       "    <tr>\n",
       "      <th>3</th>\n",
       "      <td>0.918367</td>\n",
       "      <td>0.897959</td>\n",
       "      <td>2340</td>\n",
       "      <td>1</td>\n",
       "      <td>1</td>\n",
       "      <td>0.666667</td>\n",
       "      <td>0.777778</td>\n",
       "      <td>0.975000</td>\n",
       "      <td>0.925000</td>\n",
       "      <td>70</td>\n",
       "      <td>0.914261</td>\n",
       "      <td>0.899999</td>\n",
       "      <td>0.915452</td>\n",
       "      <td>0.903035</td>\n",
       "    </tr>\n",
       "    <tr>\n",
       "      <th>4</th>\n",
       "      <td>0.857143</td>\n",
       "      <td>0.836735</td>\n",
       "      <td>2340</td>\n",
       "      <td>1</td>\n",
       "      <td>1</td>\n",
       "      <td>0.800000</td>\n",
       "      <td>0.800000</td>\n",
       "      <td>0.882353</td>\n",
       "      <td>0.852941</td>\n",
       "      <td>70</td>\n",
       "      <td>0.858381</td>\n",
       "      <td>0.839363</td>\n",
       "      <td>0.860390</td>\n",
       "      <td>0.844913</td>\n",
       "    </tr>\n",
       "  </tbody>\n",
       "</table>\n",
       "</div>"
      ],
      "text/plain": [
       "   AccuracyLR  AccuracyNB  Channel  FoldCount  RunCount  SensitivityLR  \\\n",
       "0    0.897959    0.836735     2340          1         1       0.800000   \n",
       "1    0.775510    0.795918     2340          1         1       0.625000   \n",
       "2    0.857143    0.816327     2340          1         1       0.600000   \n",
       "3    0.918367    0.897959     2340          1         1       0.666667   \n",
       "4    0.857143    0.836735     2340          1         1       0.800000   \n",
       "\n",
       "   SensitivityNB  SpecificityLR  SpecificityNB  Threshold  fmeasureLR  \\\n",
       "0       0.733333       0.941176       0.882353         70    0.896939   \n",
       "1       0.750000       0.848485       0.818182         70    0.773565   \n",
       "2       0.500000       0.923077       0.897436         70    0.854288   \n",
       "3       0.777778       0.975000       0.925000         70    0.914261   \n",
       "4       0.800000       0.882353       0.852941         70    0.858381   \n",
       "\n",
       "   fmeasureNB  precisionLR  precisionNB  \n",
       "0    0.836735     0.896793     0.836735  \n",
       "1    0.798732     0.772309     0.804257  \n",
       "2    0.812656     0.852381     0.809807  \n",
       "3    0.899999     0.915452     0.903035  \n",
       "4    0.839363     0.860390     0.844913  "
      ]
     },
     "execution_count": 29,
     "metadata": {},
     "output_type": "execute_result"
    }
   ],
   "source": [
    "SaveDataDF.head()"
   ]
  },
  {
   "cell_type": "code",
   "execution_count": 30,
   "metadata": {
    "collapsed": true
   },
   "outputs": [],
   "source": [
    "SaveDataDF.to_csv(Filepath+'OutputData.csv', header=False,sep='\\t', encoding='utf-8', index=False)"
   ]
  },
  {
   "cell_type": "code",
   "execution_count": 31,
   "metadata": {
    "collapsed": true
   },
   "outputs": [],
   "source": [
    "readResults = pd.read_csv(Filepath+'OutputData.csv', header=1, sep ='\\t')"
   ]
  },
  {
   "cell_type": "code",
   "execution_count": 32,
   "metadata": {
    "collapsed": true
   },
   "outputs": [],
   "source": [
    "readResults.columns = ['AccuracyLR', 'AccuracyNB', 'Channel', 'FoldCount', 'RunCount', \n",
    "                    'SensitivityLR', 'SensitivityNB','SpecificityLR', \n",
    "                    'SpecificityNB','Threshold','FmeasureLR', 'FmeasureNB', 'PrecisionLR', 'PrecisionNB']"
   ]
  },
  {
   "cell_type": "code",
   "execution_count": 33,
   "metadata": {},
   "outputs": [
    {
     "data": {
      "text/html": [
       "<div>\n",
       "<style>\n",
       "    .dataframe thead tr:only-child th {\n",
       "        text-align: right;\n",
       "    }\n",
       "\n",
       "    .dataframe thead th {\n",
       "        text-align: left;\n",
       "    }\n",
       "\n",
       "    .dataframe tbody tr th {\n",
       "        vertical-align: top;\n",
       "    }\n",
       "</style>\n",
       "<table border=\"1\" class=\"dataframe\">\n",
       "  <thead>\n",
       "    <tr style=\"text-align: right;\">\n",
       "      <th></th>\n",
       "      <th>AccuracyLR</th>\n",
       "      <th>AccuracyNB</th>\n",
       "      <th>Channel</th>\n",
       "      <th>FoldCount</th>\n",
       "      <th>RunCount</th>\n",
       "      <th>SensitivityLR</th>\n",
       "      <th>SensitivityNB</th>\n",
       "      <th>SpecificityLR</th>\n",
       "      <th>SpecificityNB</th>\n",
       "      <th>Threshold</th>\n",
       "      <th>FmeasureLR</th>\n",
       "      <th>FmeasureNB</th>\n",
       "      <th>PrecisionLR</th>\n",
       "      <th>PrecisionNB</th>\n",
       "    </tr>\n",
       "  </thead>\n",
       "  <tbody>\n",
       "    <tr>\n",
       "      <th>0</th>\n",
       "      <td>0.857143</td>\n",
       "      <td>0.816327</td>\n",
       "      <td>2340</td>\n",
       "      <td>1</td>\n",
       "      <td>1</td>\n",
       "      <td>0.600000</td>\n",
       "      <td>0.500000</td>\n",
       "      <td>0.923077</td>\n",
       "      <td>0.897436</td>\n",
       "      <td>70</td>\n",
       "      <td>0.854288</td>\n",
       "      <td>0.812656</td>\n",
       "      <td>0.852381</td>\n",
       "      <td>0.809807</td>\n",
       "    </tr>\n",
       "    <tr>\n",
       "      <th>1</th>\n",
       "      <td>0.918367</td>\n",
       "      <td>0.897959</td>\n",
       "      <td>2340</td>\n",
       "      <td>1</td>\n",
       "      <td>1</td>\n",
       "      <td>0.666667</td>\n",
       "      <td>0.777778</td>\n",
       "      <td>0.975000</td>\n",
       "      <td>0.925000</td>\n",
       "      <td>70</td>\n",
       "      <td>0.914261</td>\n",
       "      <td>0.899999</td>\n",
       "      <td>0.915452</td>\n",
       "      <td>0.903035</td>\n",
       "    </tr>\n",
       "    <tr>\n",
       "      <th>2</th>\n",
       "      <td>0.857143</td>\n",
       "      <td>0.836735</td>\n",
       "      <td>2340</td>\n",
       "      <td>1</td>\n",
       "      <td>1</td>\n",
       "      <td>0.800000</td>\n",
       "      <td>0.800000</td>\n",
       "      <td>0.882353</td>\n",
       "      <td>0.852941</td>\n",
       "      <td>70</td>\n",
       "      <td>0.858381</td>\n",
       "      <td>0.839363</td>\n",
       "      <td>0.860390</td>\n",
       "      <td>0.844913</td>\n",
       "    </tr>\n",
       "    <tr>\n",
       "      <th>3</th>\n",
       "      <td>0.877551</td>\n",
       "      <td>0.816327</td>\n",
       "      <td>2340</td>\n",
       "      <td>1</td>\n",
       "      <td>1</td>\n",
       "      <td>0.800000</td>\n",
       "      <td>0.700000</td>\n",
       "      <td>0.897436</td>\n",
       "      <td>0.846154</td>\n",
       "      <td>70</td>\n",
       "      <td>0.881506</td>\n",
       "      <td>0.824632</td>\n",
       "      <td>0.888950</td>\n",
       "      <td>0.839482</td>\n",
       "    </tr>\n",
       "    <tr>\n",
       "      <th>4</th>\n",
       "      <td>0.916667</td>\n",
       "      <td>0.812500</td>\n",
       "      <td>2340</td>\n",
       "      <td>1</td>\n",
       "      <td>1</td>\n",
       "      <td>0.937500</td>\n",
       "      <td>0.812500</td>\n",
       "      <td>0.906250</td>\n",
       "      <td>0.812500</td>\n",
       "      <td>70</td>\n",
       "      <td>0.917774</td>\n",
       "      <td>0.815925</td>\n",
       "      <td>0.922222</td>\n",
       "      <td>0.825771</td>\n",
       "    </tr>\n",
       "  </tbody>\n",
       "</table>\n",
       "</div>"
      ],
      "text/plain": [
       "   AccuracyLR  AccuracyNB  Channel  FoldCount  RunCount  SensitivityLR  \\\n",
       "0    0.857143    0.816327     2340          1         1       0.600000   \n",
       "1    0.918367    0.897959     2340          1         1       0.666667   \n",
       "2    0.857143    0.836735     2340          1         1       0.800000   \n",
       "3    0.877551    0.816327     2340          1         1       0.800000   \n",
       "4    0.916667    0.812500     2340          1         1       0.937500   \n",
       "\n",
       "   SensitivityNB  SpecificityLR  SpecificityNB  Threshold  FmeasureLR  \\\n",
       "0       0.500000       0.923077       0.897436         70    0.854288   \n",
       "1       0.777778       0.975000       0.925000         70    0.914261   \n",
       "2       0.800000       0.882353       0.852941         70    0.858381   \n",
       "3       0.700000       0.897436       0.846154         70    0.881506   \n",
       "4       0.812500       0.906250       0.812500         70    0.917774   \n",
       "\n",
       "   FmeasureNB  PrecisionLR  PrecisionNB  \n",
       "0    0.812656     0.852381     0.809807  \n",
       "1    0.899999     0.915452     0.903035  \n",
       "2    0.839363     0.860390     0.844913  \n",
       "3    0.824632     0.888950     0.839482  \n",
       "4    0.815925     0.922222     0.825771  "
      ]
     },
     "execution_count": 33,
     "metadata": {},
     "output_type": "execute_result"
    }
   ],
   "source": [
    "readResults.head()"
   ]
  },
  {
   "cell_type": "code",
   "execution_count": 34,
   "metadata": {
    "collapsed": true
   },
   "outputs": [],
   "source": [
    "pVal = stats.ttest_ind(SaveDataDF['AccuracyNB'][:800],SaveDataDF['AccuracyLR'][:800], nan_policy = 'propagate')\n",
    "pValue = pVal[1]"
   ]
  },
  {
   "cell_type": "code",
   "execution_count": 35,
   "metadata": {},
   "outputs": [
    {
     "data": {
      "text/plain": [
       "Ttest_indResult(statistic=-15.761794348344937, pvalue=3.899707912671742e-52)"
      ]
     },
     "execution_count": 35,
     "metadata": {},
     "output_type": "execute_result"
    }
   ],
   "source": [
    "pVal"
   ]
  },
  {
   "cell_type": "code",
   "execution_count": 36,
   "metadata": {
    "collapsed": true
   },
   "outputs": [],
   "source": [
    "readResults = readResults.drop(['FoldCount', 'RunCount'], 1)"
   ]
  },
  {
   "cell_type": "code",
   "execution_count": 37,
   "metadata": {
    "collapsed": true
   },
   "outputs": [],
   "source": [
    "PerThresPerChannelDF = readResults.groupby(['Channel','Threshold']).mean().add_suffix('_mean').reset_index()"
   ]
  },
  {
   "cell_type": "code",
   "execution_count": 38,
   "metadata": {},
   "outputs": [
    {
     "data": {
      "text/html": [
       "<div>\n",
       "<style>\n",
       "    .dataframe thead tr:only-child th {\n",
       "        text-align: right;\n",
       "    }\n",
       "\n",
       "    .dataframe thead th {\n",
       "        text-align: left;\n",
       "    }\n",
       "\n",
       "    .dataframe tbody tr th {\n",
       "        vertical-align: top;\n",
       "    }\n",
       "</style>\n",
       "<table border=\"1\" class=\"dataframe\">\n",
       "  <thead>\n",
       "    <tr style=\"text-align: right;\">\n",
       "      <th></th>\n",
       "      <th>Channel</th>\n",
       "      <th>Threshold</th>\n",
       "      <th>AccuracyLR_mean</th>\n",
       "      <th>AccuracyNB_mean</th>\n",
       "      <th>SensitivityLR_mean</th>\n",
       "      <th>SensitivityNB_mean</th>\n",
       "      <th>SpecificityLR_mean</th>\n",
       "      <th>SpecificityNB_mean</th>\n",
       "      <th>FmeasureLR_mean</th>\n",
       "      <th>FmeasureNB_mean</th>\n",
       "      <th>PrecisionLR_mean</th>\n",
       "      <th>PrecisionNB_mean</th>\n",
       "    </tr>\n",
       "  </thead>\n",
       "  <tbody>\n",
       "    <tr>\n",
       "      <th>0</th>\n",
       "      <td>2340</td>\n",
       "      <td>70</td>\n",
       "      <td>0.886037</td>\n",
       "      <td>0.844448</td>\n",
       "      <td>0.797709</td>\n",
       "      <td>0.790770</td>\n",
       "      <td>0.916741</td>\n",
       "      <td>0.863543</td>\n",
       "      <td>0.886504</td>\n",
       "      <td>0.848347</td>\n",
       "      <td>0.892380</td>\n",
       "      <td>0.861517</td>\n",
       "    </tr>\n",
       "    <tr>\n",
       "      <th>1</th>\n",
       "      <td>10670</td>\n",
       "      <td>70</td>\n",
       "      <td>0.954715</td>\n",
       "      <td>0.920561</td>\n",
       "      <td>0.966395</td>\n",
       "      <td>0.899076</td>\n",
       "      <td>0.943233</td>\n",
       "      <td>0.944176</td>\n",
       "      <td>0.954695</td>\n",
       "      <td>0.920557</td>\n",
       "      <td>0.956814</td>\n",
       "      <td>0.924691</td>\n",
       "    </tr>\n",
       "    <tr>\n",
       "      <th>2</th>\n",
       "      <td>10930</td>\n",
       "      <td>70</td>\n",
       "      <td>0.954145</td>\n",
       "      <td>0.919626</td>\n",
       "      <td>0.954563</td>\n",
       "      <td>0.911890</td>\n",
       "      <td>0.954568</td>\n",
       "      <td>0.927681</td>\n",
       "      <td>0.954173</td>\n",
       "      <td>0.919657</td>\n",
       "      <td>0.955748</td>\n",
       "      <td>0.922636</td>\n",
       "    </tr>\n",
       "    <tr>\n",
       "      <th>3</th>\n",
       "      <td>11710</td>\n",
       "      <td>70</td>\n",
       "      <td>0.953108</td>\n",
       "      <td>0.912360</td>\n",
       "      <td>0.959656</td>\n",
       "      <td>0.907964</td>\n",
       "      <td>0.946894</td>\n",
       "      <td>0.917566</td>\n",
       "      <td>0.953119</td>\n",
       "      <td>0.912349</td>\n",
       "      <td>0.954853</td>\n",
       "      <td>0.915905</td>\n",
       "    </tr>\n",
       "    <tr>\n",
       "      <th>4</th>\n",
       "      <td>11720</td>\n",
       "      <td>70</td>\n",
       "      <td>0.950629</td>\n",
       "      <td>0.923852</td>\n",
       "      <td>0.964034</td>\n",
       "      <td>0.928103</td>\n",
       "      <td>0.938056</td>\n",
       "      <td>0.920403</td>\n",
       "      <td>0.950649</td>\n",
       "      <td>0.923830</td>\n",
       "      <td>0.952739</td>\n",
       "      <td>0.927676</td>\n",
       "    </tr>\n",
       "  </tbody>\n",
       "</table>\n",
       "</div>"
      ],
      "text/plain": [
       "   Channel  Threshold  AccuracyLR_mean  AccuracyNB_mean  SensitivityLR_mean  \\\n",
       "0     2340         70         0.886037         0.844448            0.797709   \n",
       "1    10670         70         0.954715         0.920561            0.966395   \n",
       "2    10930         70         0.954145         0.919626            0.954563   \n",
       "3    11710         70         0.953108         0.912360            0.959656   \n",
       "4    11720         70         0.950629         0.923852            0.964034   \n",
       "\n",
       "   SensitivityNB_mean  SpecificityLR_mean  SpecificityNB_mean  \\\n",
       "0            0.790770            0.916741            0.863543   \n",
       "1            0.899076            0.943233            0.944176   \n",
       "2            0.911890            0.954568            0.927681   \n",
       "3            0.907964            0.946894            0.917566   \n",
       "4            0.928103            0.938056            0.920403   \n",
       "\n",
       "   FmeasureLR_mean  FmeasureNB_mean  PrecisionLR_mean  PrecisionNB_mean  \n",
       "0         0.886504         0.848347          0.892380          0.861517  \n",
       "1         0.954695         0.920557          0.956814          0.924691  \n",
       "2         0.954173         0.919657          0.955748          0.922636  \n",
       "3         0.953119         0.912349          0.954853          0.915905  \n",
       "4         0.950649         0.923830          0.952739          0.927676  "
      ]
     },
     "execution_count": 38,
     "metadata": {},
     "output_type": "execute_result"
    }
   ],
   "source": [
    "PerThresPerChannelDF.head()"
   ]
  },
  {
   "cell_type": "code",
   "execution_count": 39,
   "metadata": {
    "collapsed": true
   },
   "outputs": [],
   "source": [
    "PerThresPerChannelDF['CountChan'] = 1\n",
    "aggregator = {'AccuracyLR_mean' : 'mean',\n",
    "              'AccuracyNB_mean' : 'mean',\n",
    "              'SensitivityLR_mean': 'mean',\n",
    "              'SensitivityNB_mean' : 'mean',\n",
    "              'SpecificityLR_mean': 'mean',\n",
    "              'SpecificityNB_mean' : 'mean',\n",
    "              'FmeasureLR_mean':'mean',\n",
    "              'FmeasureNB_mean':'mean',\n",
    "              'PrecisionLR_mean': 'mean',\n",
    "              'PrecisionNB_mean': 'mean',\n",
    "              'CountChan': 'sum'}\n",
    "FinalResultsDF = PerThresPerChannelDF.groupby('Threshold', as_index=False)['AccuracyLR_mean', 'AccuracyNB_mean', \n",
    "                                                                 'SensitivityLR_mean', 'SensitivityNB_mean', \n",
    "                                                                 'SpecificityLR_mean', 'SpecificityNB_mean',\n",
    "                                                                 'PrecisionLR_mean','PrecisionNB_mean',\n",
    "                                                                 'FmeasureLR_mean', 'FmeasureNB_mean'].agg(aggregator)\n"
   ]
  },
  {
   "cell_type": "code",
   "execution_count": 40,
   "metadata": {
    "collapsed": true
   },
   "outputs": [],
   "source": [
    "#PerThresPerChannelDF = PerThresPerChannelDF.drop(['Channel'], 1)\n",
    "#FinalResultsDF = PerThresPerChannelDF.groupby(['Threshold']).mean().reset_index()\n",
    "FinalResultsDF['Cluster'] = '14'\n",
    "FinalResultsDF['pValue'] = pValue"
   ]
  },
  {
   "cell_type": "code",
   "execution_count": 41,
   "metadata": {},
   "outputs": [
    {
     "data": {
      "text/html": [
       "<div>\n",
       "<style>\n",
       "    .dataframe thead tr:only-child th {\n",
       "        text-align: right;\n",
       "    }\n",
       "\n",
       "    .dataframe thead th {\n",
       "        text-align: left;\n",
       "    }\n",
       "\n",
       "    .dataframe tbody tr th {\n",
       "        vertical-align: top;\n",
       "    }\n",
       "</style>\n",
       "<table border=\"1\" class=\"dataframe\">\n",
       "  <thead>\n",
       "    <tr style=\"text-align: right;\">\n",
       "      <th></th>\n",
       "      <th>Threshold</th>\n",
       "      <th>AccuracyLR_mean</th>\n",
       "      <th>AccuracyNB_mean</th>\n",
       "      <th>SensitivityLR_mean</th>\n",
       "      <th>SensitivityNB_mean</th>\n",
       "      <th>SpecificityLR_mean</th>\n",
       "      <th>SpecificityNB_mean</th>\n",
       "      <th>FmeasureLR_mean</th>\n",
       "      <th>FmeasureNB_mean</th>\n",
       "      <th>PrecisionLR_mean</th>\n",
       "      <th>PrecisionNB_mean</th>\n",
       "      <th>CountChan</th>\n",
       "      <th>Cluster</th>\n",
       "      <th>pValue</th>\n",
       "    </tr>\n",
       "  </thead>\n",
       "  <tbody>\n",
       "    <tr>\n",
       "      <th>0</th>\n",
       "      <td>70</td>\n",
       "      <td>0.939533</td>\n",
       "      <td>0.901293</td>\n",
       "      <td>0.910757</td>\n",
       "      <td>0.891423</td>\n",
       "      <td>0.940299</td>\n",
       "      <td>0.904008</td>\n",
       "      <td>0.939007</td>\n",
       "      <td>0.903074</td>\n",
       "      <td>0.942067</td>\n",
       "      <td>0.91132</td>\n",
       "      <td>96</td>\n",
       "      <td>14</td>\n",
       "      <td>3.899708e-52</td>\n",
       "    </tr>\n",
       "  </tbody>\n",
       "</table>\n",
       "</div>"
      ],
      "text/plain": [
       "   Threshold  AccuracyLR_mean  AccuracyNB_mean  SensitivityLR_mean  \\\n",
       "0         70         0.939533         0.901293            0.910757   \n",
       "\n",
       "   SensitivityNB_mean  SpecificityLR_mean  SpecificityNB_mean  \\\n",
       "0            0.891423            0.940299            0.904008   \n",
       "\n",
       "   FmeasureLR_mean  FmeasureNB_mean  PrecisionLR_mean  PrecisionNB_mean  \\\n",
       "0         0.939007         0.903074          0.942067           0.91132   \n",
       "\n",
       "   CountChan Cluster        pValue  \n",
       "0         96      14  3.899708e-52  "
      ]
     },
     "execution_count": 41,
     "metadata": {},
     "output_type": "execute_result"
    }
   ],
   "source": [
    "FinalResultsDF"
   ]
  },
  {
   "cell_type": "code",
   "execution_count": 42,
   "metadata": {
    "collapsed": true
   },
   "outputs": [],
   "source": [
    "# Write the results to a CSV\n",
    "FinalResultsDF.to_csv(Filepath+'Output/FinalResults.csv', header=False,sep='\\t', index=False, mode = 'a')"
   ]
  },
  {
   "cell_type": "code",
   "execution_count": null,
   "metadata": {
    "collapsed": true
   },
   "outputs": [],
   "source": []
  }
 ],
 "metadata": {
  "kernelspec": {
   "display_name": "Python 3",
   "language": "python",
   "name": "python3"
  },
  "language_info": {
   "codemirror_mode": {
    "name": "ipython",
    "version": 3
   },
   "file_extension": ".py",
   "mimetype": "text/x-python",
   "name": "python",
   "nbconvert_exporter": "python",
   "pygments_lexer": "ipython3",
   "version": "3.6.3"
  }
 },
 "nbformat": 4,
 "nbformat_minor": 2
}
